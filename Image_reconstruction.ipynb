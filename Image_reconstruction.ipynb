{
  "cells": [
    {
      "cell_type": "markdown",
      "metadata": {
        "id": "DyJ7PvTOk_v6"
      },
      "source": [
        "#Kaggle Instruction"
      ]
    },
    {
      "cell_type": "code",
      "execution_count": null,
      "metadata": {
        "id": "LNAUiDliMDW8"
      },
      "outputs": [],
      "source": [
        "from IPython.display import clear_output\n",
        "\n",
        "! pip install kaggle\n",
        "\n",
        "!mkdir ~/.kaggle\n",
        "!cp kaggle.json ~/.kaggle/\n",
        "!chmod 600 ~/.kaggle/kaggle.json\n",
        "\n",
        "!pip install torchvision\n",
        "!kaggle competitions download -c cifar-10\n",
        "!unzip /content/cifar-10.zip\n",
        "\n",
        "!sudo apt-get install p7zip-full\n",
        "!7za x /content/train.7z\n",
        "\n",
        "clear_output()"
      ]
    },
    {
      "cell_type": "code",
      "execution_count": null,
      "metadata": {
        "id": "u_L5X2UiZtFp"
      },
      "outputs": [],
      "source": [
        "import pandas as pd\n",
        "import numpy as np\n",
        "import matplotlib.pyplot as plt \n",
        "import seaborn as sns\n",
        "import cv2\n",
        "from PIL import Image\n",
        "import imageio\n",
        "import os\n",
        "import pandas as pd\n",
        "import numpy as np\n",
        "import seaborn as sns\n",
        "import matplotlib.pyplot as plt\n",
        "\n",
        "import torch\n",
        "import torchvision as v\n",
        "import torch.optim as optim\n",
        "import torch.nn.functional as F\n",
        "from torch.autograd import Variable\n",
        "\n",
        "import torch.nn as nn\n",
        "import torch.nn.functional as F\n",
        "import torchvision\n",
        "\n",
        "from tqdm import tqdm\n"
      ]
    },
    {
      "cell_type": "code",
      "execution_count": null,
      "metadata": {
        "id": "a80WaO-SiM-1"
      },
      "outputs": [],
      "source": [
        "!cp /content/train.zip /content/drive/MyDrive/"
      ]
    },
    {
      "cell_type": "markdown",
      "metadata": {
        "id": "SUNxaizx9i5Y"
      },
      "source": [
        "# Data Generation\n"
      ]
    },
    {
      "cell_type": "code",
      "execution_count": null,
      "metadata": {
        "id": "sAq4niydZwb5"
      },
      "outputs": [],
      "source": [
        "Data_Labels= pd.DataFrame(columns=['First_image','Second_image','Target'])\n",
        "if not os.path.isdir('/content/Cifar_Multi_Class_Reconstruction'):\n",
        "    os.mkdir('/content/Cifar_Multi_Class_Reconstruction/')"
      ]
    },
    {
      "cell_type": "code",
      "execution_count": null,
      "metadata": {
        "id": "X6DSNsqs_PGw"
      },
      "outputs": [],
      "source": [
        "def dataset_generation(data_Path,destination,csv_destination):\n",
        "    image_names = []\n",
        "    image = []\n",
        "\n",
        "    for i in sorted(os.listdir(data_Path)):\n",
        "        image_names.append(imageio.imread(os.path.join('/content/train',i)))\n",
        "        image.append(i)\n",
        "\n",
        "    for i in tqdm(range(10)):\n",
        "      for k in ((range(100*i,(100)*(i+1)))):\n",
        "          for j in range(k,100*(i+1)):\n",
        "            combine_image = ((image_names[k] + image_names[j])/2)\n",
        "            combine_image.astype(int)\n",
        "            combine_image = Image.fromarray(combine_image.astype(np.uint8))\n",
        "            combine_image.save(os.path.join(destination,\"{}_{}.jpg\".format(image[k],image[j])))\n",
        "            Data_Labels.loc[len(Data_Labels.index)] = [image[k],image[j],\"{}_{}.jpg\".format(image[k],image[j])] \n",
        "    Data_Labels.to_csv(csv_destination)\n",
        "    return image_names "
      ]
    },
    {
      "cell_type": "code",
      "execution_count": null,
      "metadata": {
        "id": "72YbjG3ya5Iw"
      },
      "outputs": [],
      "source": [
        "Data_Labels.to_csv('/content/Cifar_Multi_Class_Reconstruction.csv')"
      ]
    },
    {
      "cell_type": "code",
      "execution_count": null,
      "metadata": {
        "id": "b8VkUATTir_N"
      },
      "outputs": [],
      "source": [
        "dataset_generation('/content/train','/content/Cifar_Multi_Class_Reconstruction/','/content/Cifar_Multi_Class_Reconstruction.csv')"
      ]
    },
    {
      "cell_type": "code",
      "execution_count": null,
      "metadata": {
        "id": "V-wEQ5GmixKa"
      },
      "outputs": [],
      "source": [
        "import shutil\n",
        "des = '/content/drive/MyDrive/Cifar-1000-image-combination'\n",
        "# a = []\n",
        "for i in os.listdir('/content/Cifar_Multi_Class_Reconstruction'):\n",
        "  # a.append(os.path.join('/content/Cifar_Multi_Class_Reconstruction',i))\n",
        "  shutil.copy(os.path.join('/content/Cifar_Multi_Class_Reconstruction',i), des)\n"
      ]
    },
    {
      "cell_type": "code",
      "execution_count": null,
      "metadata": {
        "colab": {
          "base_uri": "https://localhost:8080/",
          "height": 35
        },
        "id": "92EwKpJgX-Ir",
        "outputId": "83c7bda8-3128-4fd9-ee08-3221e4ba3b3d"
      },
      "outputs": [
        {
          "data": {
            "application/vnd.google.colaboratory.intrinsic+json": {
              "type": "string"
            },
            "text/plain": [
              "'/content/Cifar-1000-image-combination.zip'"
            ]
          },
          "execution_count": 10,
          "metadata": {},
          "output_type": "execute_result"
        }
      ],
      "source": [
        "import shutil\n",
        "shutil.make_archive('/content/Cifar-1000-image-combination', 'zip', '/content/Cifar_Multi_Class_Reconstruction/')"
      ]
    },
    {
      "cell_type": "code",
      "execution_count": null,
      "metadata": {
        "id": "mhR6JDgIVTd8"
      },
      "outputs": [],
      "source": [
        "import os\n",
        "import glob\n",
        "\n",
        "files = glob.glob('/content/drive/MyDrive/Cifar-1000-image-combination/*')\n",
        "for f in files:\n",
        "    os.remove(f)"
      ]
    },
    {
      "cell_type": "code",
      "execution_count": null,
      "metadata": {
        "colab": {
          "base_uri": "https://localhost:8080/"
        },
        "id": "iikcA5kwumf0",
        "outputId": "0fda6dc3-6b99-4e25-a7e4-8aff4f31fe56"
      },
      "outputs": [
        {
          "data": {
            "text/plain": [
              "6810"
            ]
          },
          "execution_count": 11,
          "metadata": {},
          "output_type": "execute_result"
        }
      ],
      "source": [
        "import shutil\n",
        "import os\n",
        "# des = '/content/drive/MyDrive/Cifar-1000-image-combination'\n",
        "a = []\n",
        "len(os.listdir('/content/train'))"
      ]
    },
    {
      "cell_type": "code",
      "execution_count": null,
      "metadata": {
        "colab": {
          "base_uri": "https://localhost:8080/"
        },
        "id": "JbbQn3IJwwR-",
        "outputId": "fffe488a-7ed5-43a2-c119-d102c74639b6"
      },
      "outputs": [
        {
          "name": "stdout",
          "output_type": "stream",
          "text": [
            "Archive:  Cifar-1000-image-combination.zip\n",
            "  End-of-central-directory signature not found.  Either this file is not\n",
            "  a zipfile, or it constitutes one disk of a multi-part archive.  In the\n",
            "  latter case the central directory and zipfile comment will be found on\n",
            "  the last disk(s) of this archive.\n",
            "unzip:  cannot find zipfile directory in one of Cifar-1000-image-combination.zip or\n",
            "        Cifar-1000-image-combination.zip.zip, and cannot find Cifar-1000-image-combination.zip.ZIP, period.\n"
          ]
        }
      ],
      "source": [
        "!unzip Cifar-1000-image-combination.zip"
      ]
    },
    {
      "cell_type": "code",
      "execution_count": null,
      "metadata": {
        "id": "uGIC-8wxw4k1"
      },
      "outputs": [],
      "source": [
        "ls"
      ]
    },
    {
      "cell_type": "code",
      "execution_count": null,
      "metadata": {
        "id": "JGXaHcEVisLe"
      },
      "outputs": [],
      "source": []
    },
    {
      "cell_type": "markdown",
      "metadata": {
        "id": "29-Le8azitBF"
      },
      "source": [
        "#Data Prepration"
      ]
    },
    {
      "cell_type": "code",
      "execution_count": null,
      "metadata": {
        "id": "rnf2uA36a-Jh",
        "colab": {
          "base_uri": "https://localhost:8080/"
        },
        "outputId": "ace34a25-55f2-45e9-c75c-0e631a692247"
      },
      "outputs": [
        {
          "output_type": "stream",
          "name": "stdout",
          "text": [
            "Mounted at /content/drive\n"
          ]
        }
      ],
      "source": [
        "from google.colab import drive\n",
        "drive.mount('/content/drive')"
      ]
    },
    {
      "cell_type": "markdown",
      "metadata": {
        "id": "ro0Yov2uAHhS"
      },
      "source": [
        "# DataLoader\n"
      ]
    },
    {
      "cell_type": "code",
      "execution_count": null,
      "metadata": {
        "id": "V4sFNH85-IJ3"
      },
      "outputs": [],
      "source": [
        "!unzip '/content/drive/MyDrive/Cifar-1000-image-combination.zip' -d '/content/Cifar_Multi_Class_Reconstruction/'"
      ]
    },
    {
      "cell_type": "code",
      "execution_count": 142,
      "metadata": {
        "id": "4ApIOvqiTMze"
      },
      "outputs": [],
      "source": [
        "from torch.utils.data import Dataset\n",
        "from torchvision.io import read_image\n",
        "import pandas as pd\n",
        "import torchvision\n",
        "import os\n",
        "\n",
        "from torchvision import transforms\n",
        "from torchvision import transforms, utils\n",
        "from torch.utils.data import DataLoader\n",
        "\n",
        "root_directory = '/content/'\n",
        "\n",
        "class ImageDataLoader(Dataset):\n",
        "\n",
        "    def __init__(self , image_directory, label_directory,transform=None):\n",
        "        self.image_labels= pd.read_csv(label_directory)\n",
        "        self.image_directory = image_directory\n",
        "        self.transform = transform\n",
        "\n",
        "    def __len__(self):\n",
        "        return len(self.image_labels.index)\n",
        "\n",
        "    def __getitem__(self , index):\n",
        "        # print(self.image_labels.iloc[index,3])\n",
        "        image_path = os.path.join(self.image_directory,str(self.image_labels.iloc[index,3]))\n",
        "        image = read_image(image_path)\n",
        "        image_label_1 =read_image(os.path.join('/content/train',str(self.image_labels.iloc[index,1])))\n",
        "        image_label_2 =read_image(os.path.join('/content/train',str(self.image_labels.iloc[index,2])))\n",
        "\n",
        "        # image = torch.from_numpy(image)\n",
        "        # image_label_1 = torch.from_numpy(image_label_1)\n",
        "        # image_label_2 = torch.from_numpy(image_label_2)b\n",
        "        transform1 = transforms.Compose([transforms.ToPILImage()])\n",
        "        image = transform1(image)\n",
        "        image_label_1 = transform1(image_label_1)\n",
        "        image_label_2 = transform1(image_label_2)\n",
        "\n",
        "        if self.transform != None :\n",
        "          image = self.transform(image)\n",
        "          image_label_1 = self.transform(image_label_1)\n",
        "          image_label_2 = self.transform(image_label_2)\n",
        "        c = torch.cat((image_label_1, image_label_2), 1)\n",
        "        return image , c\n",
        "        # return image , image"
      ]
    },
    {
      "cell_type": "code",
      "execution_count": 143,
      "metadata": {
        "id": "IWG8CXwNXi8Y"
      },
      "outputs": [],
      "source": [
        "composed = transforms.Compose([transforms.Resize(32),\n",
        "  #  transforms.CenterCrop(15),\n",
        "   transforms.ToTensor(),\n",
        "  #  transforms.Normalize(\n",
        "      #  mean=[0.485, 0.456, 0.406],\n",
        "      #  std=[0.229, 0.224, 0.225]\n",
        "  #  )]\n",
        "])\n",
        "# preprocess = T.Compose([\n",
        "  #  T.Resize(256),\n",
        "  #  T.CenterCrop(224),\n",
        "  #  T.ToTensor(),\n",
        "  #  T.Normalize(\n",
        "      #  mean=[0.485, 0.456, 0.406],\n",
        "      #  std=[0.229, 0.224, 0.225]\n",
        "  #  )\n",
        "# ])"
      ]
    },
    {
      "cell_type": "code",
      "execution_count": 144,
      "metadata": {
        "id": "FNI3WdrgH1XK"
      },
      "outputs": [],
      "source": [
        "train = ImageDataLoader('/content/Cifar_Multi_Class_Reconstruction','/content/Cifar_Multi_Class_Reconstruction.csv',composed)"
      ]
    },
    {
      "cell_type": "code",
      "source": [
        "train_set, val_set = torch.utils.data.random_split(train, [45000, 5500])\n"
      ],
      "metadata": {
        "id": "Izj3PGCtfEwH"
      },
      "execution_count": 145,
      "outputs": []
    },
    {
      "cell_type": "code",
      "execution_count": 146,
      "metadata": {
        "id": "TuQqkEzRIDs7"
      },
      "outputs": [],
      "source": [
        "\n",
        "# train_dataloader = DataLoader(train, batch_size=32 ,shuffle=True)"
      ]
    },
    {
      "cell_type": "code",
      "source": [
        "train_dataloader = DataLoader(train_set, batch_size=32 ,shuffle=True)\n",
        "valid_loader = DataLoader(val_set, batch_size=32 ,shuffle=True)"
      ],
      "metadata": {
        "id": "P7VfXlIEfPq6"
      },
      "execution_count": 147,
      "outputs": []
    },
    {
      "cell_type": "code",
      "source": [],
      "metadata": {
        "id": "5nPqhWPPe7uu"
      },
      "execution_count": 147,
      "outputs": []
    },
    {
      "cell_type": "code",
      "execution_count": 148,
      "metadata": {
        "id": "n3PBkOaXGKpa",
        "colab": {
          "base_uri": "https://localhost:8080/"
        },
        "outputId": "2524b199-b6c3-457a-e550-5c828a81d66b"
      },
      "outputs": [
        {
          "output_type": "execute_result",
          "data": {
            "text/plain": [
              "[tensor([[[[0.3255, 0.4275, 0.3451,  ..., 0.1490, 0.1412, 0.2392],\n",
              "           [0.3098, 0.3686, 0.2588,  ..., 0.2275, 0.2275, 0.2196],\n",
              "           [0.2039, 0.2863, 0.2431,  ..., 0.0784, 0.1686, 0.2039],\n",
              "           ...,\n",
              "           [0.0000, 0.0000, 0.5176,  ..., 0.0824, 0.0196, 0.0824],\n",
              "           [0.4549, 0.0000, 0.0000,  ..., 0.0275, 0.0039, 0.4863],\n",
              "           [0.0000, 0.2314, 0.3137,  ..., 0.4235, 0.0549, 0.0157]],\n",
              " \n",
              "          [[0.2471, 0.3490, 0.2745,  ..., 0.1451, 0.1373, 0.2353],\n",
              "           [0.2353, 0.2941, 0.1961,  ..., 0.2235, 0.2235, 0.2157],\n",
              "           [0.1451, 0.2314, 0.1961,  ..., 0.0784, 0.1686, 0.2039],\n",
              "           ...,\n",
              "           [0.0510, 0.0667, 0.5765,  ..., 0.0863, 0.0157, 0.0784],\n",
              "           [0.5647, 0.0353, 0.0353,  ..., 0.0314, 0.0000, 0.4824],\n",
              "           [0.0667, 0.3412, 0.3843,  ..., 0.4275, 0.0510, 0.0118]],\n",
              " \n",
              "          [[0.2549, 0.3569, 0.2745,  ..., 0.1765, 0.1608, 0.2588],\n",
              "           [0.2431, 0.3020, 0.2000,  ..., 0.2471, 0.2431, 0.2353],\n",
              "           [0.1569, 0.2314, 0.1961,  ..., 0.0863, 0.1686, 0.2039],\n",
              "           ...,\n",
              "           [0.0588, 0.0784, 0.6039,  ..., 0.0667, 0.0000, 0.0627],\n",
              "           [0.5098, 0.0000, 0.0039,  ..., 0.0118, 0.0000, 0.4667],\n",
              "           [0.0000, 0.2549, 0.3294,  ..., 0.4078, 0.0353, 0.0000]]],\n",
              " \n",
              " \n",
              "         [[[0.1098, 0.1059, 0.1333,  ..., 0.4549, 0.4118, 0.3882],\n",
              "           [0.2824, 0.3098, 0.3137,  ..., 0.4235, 0.4039, 0.4157],\n",
              "           [0.2941, 0.3137, 0.3333,  ..., 0.4196, 0.4078, 0.4157],\n",
              "           ...,\n",
              "           [0.2000, 0.1765, 0.1882,  ..., 0.2196, 0.2118, 0.2078],\n",
              "           [0.1333, 0.1922, 0.1765,  ..., 0.1725, 0.1216, 0.0784],\n",
              "           [0.2627, 0.3255, 0.1373,  ..., 0.2431, 0.2039, 0.1647]],\n",
              " \n",
              "          [[0.1412, 0.1294, 0.1373,  ..., 0.4235, 0.3529, 0.3255],\n",
              "           [0.2941, 0.3176, 0.3020,  ..., 0.3922, 0.3569, 0.3608],\n",
              "           [0.2706, 0.2863, 0.3020,  ..., 0.3882, 0.3608, 0.3686],\n",
              "           ...,\n",
              "           [0.1176, 0.1059, 0.1373,  ..., 0.1961, 0.1922, 0.1922],\n",
              "           [0.1412, 0.2000, 0.1725,  ..., 0.1686, 0.1059, 0.0627],\n",
              "           [0.3137, 0.3647, 0.1529,  ..., 0.2471, 0.1843, 0.1451]],\n",
              " \n",
              "          [[0.0000, 0.0000, 0.0667,  ..., 0.3412, 0.2627, 0.2235],\n",
              "           [0.1255, 0.1725, 0.2275,  ..., 0.3176, 0.2627, 0.2549],\n",
              "           [0.1373, 0.1725, 0.2118,  ..., 0.3137, 0.2745, 0.2667],\n",
              "           ...,\n",
              "           [0.2392, 0.2078, 0.2039,  ..., 0.0941, 0.1686, 0.1961],\n",
              "           [0.2235, 0.2588, 0.1961,  ..., 0.0510, 0.1020, 0.1216],\n",
              "           [0.3765, 0.4039, 0.1569,  ..., 0.1216, 0.2000, 0.2314]]],\n",
              " \n",
              " \n",
              "         [[[0.1255, 0.1255, 0.1255,  ..., 0.0235, 0.0078, 0.0000],\n",
              "           [0.1216, 0.1333, 0.1373,  ..., 0.0431, 0.0275, 0.0157],\n",
              "           [0.1098, 0.1333, 0.1490,  ..., 0.0824, 0.0627, 0.0549],\n",
              "           ...,\n",
              "           [0.0000, 0.0196, 0.0000,  ..., 0.1137, 0.2667, 0.2157],\n",
              "           [0.0000, 0.0824, 0.0510,  ..., 0.1725, 0.2431, 0.2667],\n",
              "           [0.0392, 0.0039, 0.0000,  ..., 0.0000, 0.0000, 0.1608]],\n",
              " \n",
              "          [[0.1412, 0.1373, 0.1412,  ..., 0.0588, 0.0510, 0.0471],\n",
              "           [0.1294, 0.1412, 0.1529,  ..., 0.0588, 0.0549, 0.0510],\n",
              "           [0.1176, 0.1373, 0.1569,  ..., 0.0627, 0.0549, 0.0549],\n",
              "           ...,\n",
              "           [0.4353, 0.4980, 0.4392,  ..., 0.4314, 0.5490, 0.4824],\n",
              "           [0.4627, 0.5529, 0.5176,  ..., 0.3765, 0.4667, 0.4941],\n",
              "           [0.5059, 0.4706, 0.4196,  ..., 0.0863, 0.1765, 0.3686]],\n",
              " \n",
              "          [[0.1529, 0.1569, 0.1882,  ..., 0.0000, 0.0000, 0.0000],\n",
              "           [0.1098, 0.1294, 0.1647,  ..., 0.0000, 0.0000, 0.0000],\n",
              "           [0.0314, 0.0667, 0.1059,  ..., 0.0784, 0.0980, 0.1020],\n",
              "           ...,\n",
              "           [0.3608, 0.4000, 0.3098,  ..., 0.5490, 0.5961, 0.4863],\n",
              "           [0.4275, 0.5059, 0.4392,  ..., 0.5294, 0.5451, 0.5412],\n",
              "           [0.4980, 0.4471, 0.3647,  ..., 0.2510, 0.2784, 0.4392]]],\n",
              " \n",
              " \n",
              "         ...,\n",
              " \n",
              " \n",
              "         [[[0.3451, 0.3647, 0.3608,  ..., 0.3255, 0.3412, 0.2941],\n",
              "           [0.3804, 0.4039, 0.3765,  ..., 0.3333, 0.3216, 0.3098],\n",
              "           [0.4235, 0.4392, 0.4039,  ..., 0.3333, 0.3098, 0.3176],\n",
              "           ...,\n",
              "           [0.2431, 0.2980, 0.3294,  ..., 0.5216, 0.4275, 0.3255],\n",
              "           [0.2902, 0.3255, 0.3333,  ..., 0.3725, 0.3843, 0.3804],\n",
              "           [0.3490, 0.3608, 0.3451,  ..., 0.3412, 0.3412, 0.3647]],\n",
              " \n",
              "          [[0.2745, 0.3059, 0.3176,  ..., 0.2902, 0.2745, 0.2118],\n",
              "           [0.3137, 0.3451, 0.3412,  ..., 0.2980, 0.2549, 0.2235],\n",
              "           [0.3686, 0.4000, 0.3686,  ..., 0.2941, 0.2471, 0.2431],\n",
              "           ...,\n",
              "           [0.2549, 0.3098, 0.3294,  ..., 0.5176, 0.4000, 0.2902],\n",
              "           [0.3020, 0.3373, 0.3373,  ..., 0.3569, 0.3451, 0.3294],\n",
              "           [0.3647, 0.3725, 0.3490,  ..., 0.3216, 0.2902, 0.3098]],\n",
              " \n",
              "          [[0.2353, 0.2863, 0.3490,  ..., 0.2314, 0.3059, 0.2863],\n",
              "           [0.2745, 0.3255, 0.3608,  ..., 0.2392, 0.2941, 0.3059],\n",
              "           [0.3176, 0.3647, 0.3804,  ..., 0.2471, 0.2902, 0.3294],\n",
              "           ...,\n",
              "           [0.1804, 0.2431, 0.2824,  ..., 0.4078, 0.3765, 0.3098],\n",
              "           [0.2196, 0.2627, 0.2824,  ..., 0.3098, 0.3765, 0.4000],\n",
              "           [0.2745, 0.2902, 0.2941,  ..., 0.2980, 0.3569, 0.4078]]],\n",
              " \n",
              " \n",
              "         [[[0.2078, 0.2118, 0.2118,  ..., 0.1961, 0.1882, 0.1843],\n",
              "           [0.1804, 0.1804, 0.1804,  ..., 0.1686, 0.1647, 0.1608],\n",
              "           [0.1490, 0.1490, 0.1490,  ..., 0.1373, 0.1294, 0.1294],\n",
              "           ...,\n",
              "           [0.3843, 0.4118, 0.3529,  ..., 0.1490, 0.1451, 0.1176],\n",
              "           [0.2392, 0.1569, 0.2039,  ..., 0.2039, 0.1608, 0.1255],\n",
              "           [0.1608, 0.1020, 0.2824,  ..., 0.0706, 0.0706, 0.1137]],\n",
              " \n",
              "          [[0.2784, 0.2863, 0.2863,  ..., 0.2588, 0.2549, 0.2510],\n",
              "           [0.2510, 0.2510, 0.2549,  ..., 0.2314, 0.2314, 0.2275],\n",
              "           [0.2078, 0.2078, 0.2118,  ..., 0.1961, 0.1882, 0.1882],\n",
              "           ...,\n",
              "           [0.4196, 0.4706, 0.4588,  ..., 0.0588, 0.0863, 0.0667],\n",
              "           [0.4314, 0.3608, 0.4118,  ..., 0.1490, 0.0902, 0.0431],\n",
              "           [0.4392, 0.3765, 0.5412,  ..., 0.0314, 0.0000, 0.0157]],\n",
              " \n",
              "          [[0.3569, 0.3529, 0.3412,  ..., 0.3490, 0.3333, 0.3216],\n",
              "           [0.3451, 0.3373, 0.3216,  ..., 0.3216, 0.3098, 0.2980],\n",
              "           [0.3294, 0.3216, 0.3098,  ..., 0.2863, 0.2706, 0.2706],\n",
              "           ...,\n",
              "           [0.4157, 0.4510, 0.4235,  ..., 0.4157, 0.4118, 0.3765],\n",
              "           [0.4471, 0.3529, 0.3882,  ..., 0.4902, 0.4784, 0.4549],\n",
              "           [0.4549, 0.3765, 0.5255,  ..., 0.3686, 0.4157, 0.4784]]],\n",
              " \n",
              " \n",
              "         [[[0.0902, 0.1529, 0.1765,  ..., 0.2863, 0.3333, 0.3765],\n",
              "           [0.0824, 0.2471, 0.2314,  ..., 0.2078, 0.2392, 0.2667],\n",
              "           [0.0314, 0.1333, 0.1804,  ..., 0.1373, 0.1490, 0.1608],\n",
              "           ...,\n",
              "           [0.0784, 0.0000, 0.0510,  ..., 0.2157, 0.2275, 0.2471],\n",
              "           [0.0000, 0.0196, 0.1451,  ..., 0.2784, 0.3059, 0.2863],\n",
              "           [0.0667, 0.1098, 0.0000,  ..., 0.2941, 0.2745, 0.2588]],\n",
              " \n",
              "          [[0.0980, 0.1529, 0.1804,  ..., 0.3216, 0.3765, 0.4157],\n",
              "           [0.0824, 0.2431, 0.2235,  ..., 0.2471, 0.2824, 0.3098],\n",
              "           [0.0118, 0.1098, 0.1608,  ..., 0.1765, 0.1922, 0.2039],\n",
              "           ...,\n",
              "           [0.0706, 0.0000, 0.0314,  ..., 0.1961, 0.2000, 0.2196],\n",
              "           [0.0000, 0.0039, 0.1294,  ..., 0.2510, 0.2706, 0.2510],\n",
              "           [0.0392, 0.0863, 0.0000,  ..., 0.2667, 0.2392, 0.2235]],\n",
              " \n",
              "          [[0.0941, 0.1843, 0.2627,  ..., 0.3020, 0.3608, 0.4118],\n",
              "           [0.0824, 0.2745, 0.3098,  ..., 0.2157, 0.2588, 0.2941],\n",
              "           [0.0275, 0.1490, 0.2510,  ..., 0.1412, 0.1608, 0.1725],\n",
              "           ...,\n",
              "           [0.2235, 0.1333, 0.1922,  ..., 0.1725, 0.1765, 0.1961],\n",
              "           [0.2275, 0.2353, 0.3294,  ..., 0.2196, 0.2431, 0.2235],\n",
              "           [0.3412, 0.3608, 0.1961,  ..., 0.2353, 0.2118, 0.1961]]]]),\n",
              " tensor([[[[0.8941, 0.9686, 0.7686,  ..., 0.6941, 0.6549, 0.7137],\n",
              "           [0.8353, 0.9294, 0.7451,  ..., 0.6863, 0.5765, 0.6824],\n",
              "           [0.7451, 0.8000, 0.7020,  ..., 0.5333, 0.5569, 0.6078],\n",
              "           ...,\n",
              "           [0.6745, 0.6118, 0.5569,  ..., 0.6549, 0.6353, 0.6706],\n",
              "           [0.5490, 0.6039, 0.6863,  ..., 0.5882, 0.5922, 0.5098],\n",
              "           [0.6471, 0.6353, 0.6078,  ..., 0.4941, 0.5804, 0.6078]],\n",
              " \n",
              "          [[0.8980, 0.9686, 0.7922,  ..., 0.7098, 0.6745, 0.7608],\n",
              "           [0.8314, 0.9255, 0.7608,  ..., 0.6980, 0.5961, 0.7333],\n",
              "           [0.7333, 0.8000, 0.7020,  ..., 0.5843, 0.6196, 0.6863],\n",
              "           ...,\n",
              "           [0.6588, 0.6000, 0.5529,  ..., 0.6549, 0.6314, 0.6667],\n",
              "           [0.5412, 0.5922, 0.6667,  ..., 0.5843, 0.5882, 0.5059],\n",
              "           [0.6314, 0.6118, 0.5765,  ..., 0.4902, 0.5765, 0.6078]],\n",
              " \n",
              "          [[0.8471, 0.9176, 0.7294,  ..., 0.6745, 0.6510, 0.7647],\n",
              "           [0.7647, 0.8745, 0.7216,  ..., 0.6863, 0.6039, 0.7529],\n",
              "           [0.6510, 0.7373, 0.6863,  ..., 0.5725, 0.6314, 0.7059],\n",
              "           ...,\n",
              "           [0.6118, 0.5529, 0.4902,  ..., 0.6824, 0.6510, 0.6784],\n",
              "           [0.4863, 0.5647, 0.6549,  ..., 0.5804, 0.5843, 0.4902],\n",
              "           [0.6314, 0.5961, 0.5412,  ..., 0.4706, 0.5765, 0.6000]]],\n",
              " \n",
              " \n",
              "         [[[0.9216, 0.9098, 0.9098,  ..., 0.1961, 0.2078, 0.1843],\n",
              "           [0.9569, 0.9373, 0.9333,  ..., 0.1647, 0.1569, 0.1451],\n",
              "           [0.9059, 0.9176, 0.9333,  ..., 0.1569, 0.1412, 0.1333],\n",
              "           ...,\n",
              "           [0.4902, 0.4902, 0.5569,  ..., 0.5765, 0.6000, 0.5569],\n",
              "           [0.5020, 0.5294, 0.6000,  ..., 0.6196, 0.6078, 0.5608],\n",
              "           [0.5294, 0.5569, 0.5686,  ..., 0.6314, 0.6000, 0.5490]],\n",
              " \n",
              "          [[0.8980, 0.8863, 0.8863,  ..., 0.2157, 0.2235, 0.2000],\n",
              "           [0.9333, 0.9137, 0.9098,  ..., 0.1843, 0.1725, 0.1569],\n",
              "           [0.8824, 0.8941, 0.9098,  ..., 0.1725, 0.1529, 0.1451],\n",
              "           ...,\n",
              "           [0.3882, 0.3804, 0.4431,  ..., 0.4784, 0.4941, 0.4431],\n",
              "           [0.4000, 0.4196, 0.4863,  ..., 0.5216, 0.5020, 0.4471],\n",
              "           [0.4275, 0.4471, 0.4510,  ..., 0.5137, 0.4863, 0.4431]],\n",
              " \n",
              "          [[0.9373, 0.9255, 0.9255,  ..., 0.1922, 0.2196, 0.2078],\n",
              "           [0.9725, 0.9529, 0.9490,  ..., 0.1686, 0.1765, 0.1725],\n",
              "           [0.9216, 0.9333, 0.9490,  ..., 0.1725, 0.1686, 0.1725],\n",
              "           ...,\n",
              "           [0.2353, 0.2275, 0.2706,  ..., 0.3451, 0.3647, 0.3020],\n",
              "           [0.2471, 0.2667, 0.3176,  ..., 0.3647, 0.3529, 0.3020],\n",
              "           [0.2745, 0.2941, 0.3020,  ..., 0.3647, 0.3373, 0.3059]]],\n",
              " \n",
              " \n",
              "         [[[0.5843, 0.5686, 0.5882,  ..., 0.3804, 0.3490, 0.3569],\n",
              "           [0.5686, 0.5961, 0.6431,  ..., 0.4314, 0.4275, 0.4235],\n",
              "           [0.5373, 0.5647, 0.5922,  ..., 0.4196, 0.4353, 0.4314],\n",
              "           ...,\n",
              "           [0.6392, 0.6392, 0.6353,  ..., 0.6392, 0.6314, 0.6314],\n",
              "           [0.6353, 0.6353, 0.6353,  ..., 0.6392, 0.6314, 0.6314],\n",
              "           [0.6314, 0.6314, 0.6353,  ..., 0.6353, 0.6314, 0.6314]],\n",
              " \n",
              "          [[0.5569, 0.5451, 0.5608,  ..., 0.3647, 0.3333, 0.3333],\n",
              "           [0.5020, 0.5255, 0.5686,  ..., 0.3804, 0.3765, 0.3647],\n",
              "           [0.4667, 0.4941, 0.5216,  ..., 0.3765, 0.3922, 0.3804],\n",
              "           ...,\n",
              "           [0.7020, 0.7020, 0.7020,  ..., 0.7059, 0.6980, 0.6980],\n",
              "           [0.6980, 0.6980, 0.6980,  ..., 0.7059, 0.6980, 0.6980],\n",
              "           [0.6941, 0.6980, 0.6980,  ..., 0.7020, 0.6980, 0.6980]],\n",
              " \n",
              "          [[0.5490, 0.5373, 0.5569,  ..., 0.3294, 0.2902, 0.2902],\n",
              "           [0.4784, 0.4902, 0.5294,  ..., 0.3255, 0.3059, 0.2902],\n",
              "           [0.4588, 0.4706, 0.4941,  ..., 0.3059, 0.3059, 0.2863],\n",
              "           ...,\n",
              "           [0.7647, 0.7647, 0.7647,  ..., 0.7686, 0.7608, 0.7608],\n",
              "           [0.7608, 0.7608, 0.7608,  ..., 0.7686, 0.7608, 0.7608],\n",
              "           [0.7569, 0.7608, 0.7608,  ..., 0.7647, 0.7608, 0.7608]]],\n",
              " \n",
              " \n",
              "         ...,\n",
              " \n",
              " \n",
              "         [[[0.5176, 0.5373, 0.5412,  ..., 0.4902, 0.4431, 0.4745],\n",
              "           [0.5333, 0.5020, 0.5529,  ..., 0.6039, 0.4353, 0.4235],\n",
              "           [0.5059, 0.5843, 0.5216,  ..., 0.4667, 0.5255, 0.4431],\n",
              "           ...,\n",
              "           [0.1804, 0.1412, 0.1412,  ..., 0.3647, 0.3451, 0.2902],\n",
              "           [0.2392, 0.1569, 0.1255,  ..., 0.2627, 0.2314, 0.2000],\n",
              "           [0.2039, 0.1451, 0.1294,  ..., 0.2196, 0.2000, 0.1843]],\n",
              " \n",
              "          [[0.4980, 0.5176, 0.5373,  ..., 0.4824, 0.4431, 0.4392],\n",
              "           [0.5098, 0.5059, 0.5647,  ..., 0.5569, 0.4392, 0.4235],\n",
              "           [0.4863, 0.5725, 0.5294,  ..., 0.4275, 0.5176, 0.4549],\n",
              "           ...,\n",
              "           [0.1765, 0.1333, 0.1333,  ..., 0.3451, 0.3255, 0.2667],\n",
              "           [0.2353, 0.1490, 0.1137,  ..., 0.2431, 0.2118, 0.1765],\n",
              "           [0.2000, 0.1373, 0.1176,  ..., 0.2000, 0.1804, 0.1608]],\n",
              " \n",
              "          [[0.4824, 0.4941, 0.5216,  ..., 0.4549, 0.4235, 0.4078],\n",
              "           [0.4549, 0.4706, 0.5098,  ..., 0.4627, 0.3843, 0.4235],\n",
              "           [0.3843, 0.5451, 0.5137,  ..., 0.3020, 0.4431, 0.4549],\n",
              "           ...,\n",
              "           [0.1137, 0.0784, 0.0863,  ..., 0.1765, 0.1725, 0.1373],\n",
              "           [0.1686, 0.1020, 0.0824,  ..., 0.1333, 0.1137, 0.0980],\n",
              "           [0.1333, 0.0941, 0.0980,  ..., 0.1451, 0.1333, 0.1255]]],\n",
              " \n",
              " \n",
              "         [[[0.5647, 0.5725, 0.5804,  ..., 0.5765, 0.5686, 0.5569],\n",
              "           [0.5725, 0.5765, 0.5843,  ..., 0.5882, 0.5804, 0.5725],\n",
              "           [0.5647, 0.5686, 0.5765,  ..., 0.5843, 0.5765, 0.5686],\n",
              "           ...,\n",
              "           [0.4353, 0.3922, 0.3765,  ..., 0.6118, 0.6078, 0.6157],\n",
              "           [0.4078, 0.4039, 0.3490,  ..., 0.6510, 0.6157, 0.6078],\n",
              "           [0.4745, 0.4235, 0.3647,  ..., 0.6078, 0.5961, 0.5725]],\n",
              " \n",
              "          [[0.6745, 0.6824, 0.6902,  ..., 0.6902, 0.6824, 0.6667],\n",
              "           [0.6902, 0.6941, 0.7020,  ..., 0.7020, 0.6941, 0.6824],\n",
              "           [0.6863, 0.6902, 0.6980,  ..., 0.6941, 0.6863, 0.6784],\n",
              "           ...,\n",
              "           [0.2980, 0.2627, 0.2588,  ..., 0.4353, 0.4275, 0.4431],\n",
              "           [0.2667, 0.2667, 0.2235,  ..., 0.4706, 0.4314, 0.4353],\n",
              "           [0.3333, 0.2863, 0.2392,  ..., 0.4314, 0.4157, 0.4000]],\n",
              " \n",
              "          [[0.7569, 0.7608, 0.7686,  ..., 0.7608, 0.7529, 0.7373],\n",
              "           [0.7686, 0.7725, 0.7804,  ..., 0.7725, 0.7647, 0.7529],\n",
              "           [0.7647, 0.7686, 0.7765,  ..., 0.7686, 0.7608, 0.7490],\n",
              "           ...,\n",
              "           [0.2196, 0.2000, 0.2078,  ..., 0.2784, 0.2902, 0.3098],\n",
              "           [0.1843, 0.2078, 0.1804,  ..., 0.3216, 0.3020, 0.3098],\n",
              "           [0.2196, 0.1961, 0.1686,  ..., 0.2824, 0.2863, 0.2824]]],\n",
              " \n",
              " \n",
              "         [[[0.3373, 0.5373, 0.4863,  ..., 0.8157, 0.8824, 0.9529],\n",
              "           [0.3176, 0.5804, 0.5686,  ..., 0.5373, 0.6706, 0.8000],\n",
              "           [0.2314, 0.3961, 0.4627,  ..., 0.4078, 0.4745, 0.5451],\n",
              "           ...,\n",
              "           [0.4510, 0.4549, 0.4745,  ..., 0.6039, 0.6471, 0.6784],\n",
              "           [0.4941, 0.5059, 0.5020,  ..., 0.6980, 0.7176, 0.7137],\n",
              "           [0.5216, 0.5176, 0.5255,  ..., 0.7333, 0.7255, 0.7176]],\n",
              " \n",
              "          [[0.4000, 0.5804, 0.5333,  ..., 0.8471, 0.8980, 0.9569],\n",
              "           [0.3882, 0.6275, 0.6196,  ..., 0.6314, 0.7333, 0.8235],\n",
              "           [0.3176, 0.4784, 0.5412,  ..., 0.5059, 0.5686, 0.6118],\n",
              "           ...,\n",
              "           [0.4314, 0.4314, 0.4471,  ..., 0.5529, 0.5961, 0.6314],\n",
              "           [0.4627, 0.4745, 0.4745,  ..., 0.6353, 0.6588, 0.6549],\n",
              "           [0.4902, 0.4902, 0.4980,  ..., 0.6706, 0.6627, 0.6549]],\n",
              " \n",
              "          [[0.3686, 0.5961, 0.5176,  ..., 0.8000, 0.8667, 0.9451],\n",
              "           [0.3529, 0.6431, 0.5882,  ..., 0.5294, 0.6314, 0.7725],\n",
              "           [0.2235, 0.4039, 0.4667,  ..., 0.4392, 0.4588, 0.5333],\n",
              "           ...,\n",
              "           [0.3961, 0.3882, 0.3961,  ..., 0.5098, 0.5569, 0.5922],\n",
              "           [0.4157, 0.4157, 0.4078,  ..., 0.5882, 0.6078, 0.6039],\n",
              "           [0.4392, 0.4275, 0.4235,  ..., 0.6196, 0.6118, 0.6039]]]])]"
            ]
          },
          "metadata": {},
          "execution_count": 148
        }
      ],
      "source": [
        "next(iter(train_dataloader))"
      ]
    },
    {
      "cell_type": "markdown",
      "metadata": {
        "id": "9M9A3zj5EnvP"
      },
      "source": [
        "# Model Arch"
      ]
    },
    {
      "cell_type": "code",
      "execution_count": null,
      "metadata": {
        "id": "XTaTYXUIDRW6"
      },
      "outputs": [],
      "source": [
        "\n",
        "class Block(nn.Module):\n",
        "    def __init__(self, in_ch, out_ch):\n",
        "        super().__init__()\n",
        "        self.conv1 = nn.Conv2d(in_ch, out_ch, 3)\n",
        "        self.relu  = nn.ReLU()\n",
        "        self.conv2 = nn.Conv2d(out_ch, out_ch, 3)\n",
        "    \n",
        "    def forward(self, x):\n",
        "        return self.conv2(self.relu(self.conv1(x)))\n",
        "\n",
        "\n",
        "class Encoder(nn.Module):\n",
        "    def __init__(self, chs=(3,64,128,256,512,1024)):\n",
        "        super().__init__()\n",
        "        self.enc_blocks = nn.ModuleList([Block(chs[i], chs[i+1]) for i in range(len(chs)-1)])\n",
        "        self.pool       = nn.MaxPool2d(2)\n",
        "    \n",
        "    def forward(self, x):\n",
        "        ftrs = []\n",
        "        for block in self.enc_blocks:\n",
        "            x = block(x)\n",
        "            ftrs.append(x)\n",
        "            x = self.pool(x)\n",
        "        return ftrs\n",
        "\n",
        "\n",
        "class Decoder(nn.Module):\n",
        "    def __init__(self, chs=(1024, 512, 256, 128, 64)):\n",
        "        super().__init__()\n",
        "        self.chs         = chs\n",
        "        self.upconvs    = nn.ModuleList([nn.ConvTranspose2d(chs[i], chs[i+1], 2, 2) for i in range(len(chs)-1)])\n",
        "        self.dec_blocks = nn.ModuleList([Block(chs[i], chs[i+1]) for i in range(len(chs)-1)]) \n",
        "        \n",
        "    def forward(self, x, encoder_features):\n",
        "        for i in range(len(self.chs)-1):\n",
        "            x        = self.upconvs[i](x)\n",
        "            enc_ftrs = self.crop(encoder_features[i], x)\n",
        "            x        = torch.cat([x, enc_ftrs], dim=1)\n",
        "            x        = self.dec_blocks[i](x)\n",
        "        return x\n",
        "    \n",
        "    def crop(self, enc_ftrs, x):\n",
        "        _, _, H, W = x.shape\n",
        "        enc_ftrs   = torchvision.transforms.CenterCrop([H, W])(enc_ftrs)\n",
        "        return enc_ftrs\n",
        "\n",
        "\n",
        "class UNet(nn.Module):\n",
        "    def __init__(self, enc_chs=(3,64,128,256,512,1024), dec_chs=(1024, 512, 256, 128, 64), num_class=1, retain_dim=False, out_sz=(572,572)):\n",
        "        super().__init__()\n",
        "        self.encoder     = Encoder(enc_chs)\n",
        "        self.decoder     = Decoder(dec_chs)\n",
        "        self.head        = nn.Conv2d(dec_chs[-1], num_class, 1)\n",
        "        self.retain_dim  = retain_dim\n",
        "\n",
        "    def forward(self, x):\n",
        "        enc_ftrs = self.encoder(x)\n",
        "        out      = self.decoder(enc_ftrs[::-1][0], enc_ftrs[::-1][1:])\n",
        "        out      = self.head(out)\n",
        "        if self.retain_dim:\n",
        "            out = F.interpolate(out, out_sz)\n",
        "        return out"
      ]
    },
    {
      "cell_type": "code",
      "execution_count": null,
      "metadata": {
        "colab": {
          "base_uri": "https://localhost:8080/"
        },
        "id": "sgIYxGKhE6sz",
        "outputId": "b3c1de52-2bc4-48d3-d17c-520b72866999"
      },
      "outputs": [
        {
          "data": {
            "text/plain": [
              "Autoencoder(\n",
              "  (enc1): Linear(in_features=1024, out_features=256, bias=True)\n",
              "  (enc2): Linear(in_features=256, out_features=128, bias=True)\n",
              "  (enc3): Linear(in_features=128, out_features=64, bias=True)\n",
              "  (enc4): Linear(in_features=64, out_features=32, bias=True)\n",
              "  (enc5): Linear(in_features=32, out_features=16, bias=True)\n",
              "  (dec1): Linear(in_features=16, out_features=32, bias=True)\n",
              "  (dec2): Linear(in_features=32, out_features=64, bias=True)\n",
              "  (dec3): Linear(in_features=64, out_features=128, bias=True)\n",
              "  (dec4): Linear(in_features=128, out_features=256, bias=True)\n",
              "  (dec5): Linear(in_features=256, out_features=2048, bias=True)\n",
              ")"
            ]
          },
          "execution_count": 295,
          "metadata": {},
          "output_type": "execute_result"
        }
      ],
      "source": [
        "device = torch.device(\"cuda:0\" if torch.cuda.is_available() else \"cpu\")\n",
        "net = Autoencoder()\n",
        "criterion = nn.MSELoss()\n",
        "optimizer = optim.Adam(net.parameters(), lr=0.01, betas=(0.9, 0.999), eps=1e-08, weight_decay=0, amsgrad=False)\n",
        "net.to('cuda:0')"
      ]
    },
    {
      "cell_type": "code",
      "execution_count": null,
      "metadata": {
        "colab": {
          "base_uri": "https://localhost:8080/",
          "height": 363
        },
        "id": "PFYrR4GRFbKs",
        "outputId": "0f94c7a7-eb5e-4193-bdcf-7330bc431d30"
      },
      "outputs": [
        {
          "name": "stdout",
          "output_type": "stream",
          "text": [
            "torch.Size([2, 3, 32, 32])\n"
          ]
        },
        {
          "ename": "RuntimeError",
          "evalue": "ignored",
          "output_type": "error",
          "traceback": [
            "\u001b[0;31m---------------------------------------------------------------------------\u001b[0m",
            "\u001b[0;31mRuntimeError\u001b[0m                              Traceback (most recent call last)",
            "\u001b[0;32m<ipython-input-296-fb7a2afd4853>\u001b[0m in \u001b[0;36m<module>\u001b[0;34m\u001b[0m\n\u001b[1;32m      1\u001b[0m \u001b[0;32mfrom\u001b[0m \u001b[0mtorchsummary\u001b[0m \u001b[0;32mimport\u001b[0m \u001b[0msummary\u001b[0m\u001b[0;34m\u001b[0m\u001b[0;34m\u001b[0m\u001b[0m\n\u001b[1;32m      2\u001b[0m \u001b[0;34m\u001b[0m\u001b[0m\n\u001b[0;32m----> 3\u001b[0;31m \u001b[0msummary\u001b[0m\u001b[0;34m(\u001b[0m\u001b[0mnet\u001b[0m\u001b[0;34m,\u001b[0m\u001b[0;34m(\u001b[0m\u001b[0;36m3\u001b[0m\u001b[0;34m,\u001b[0m\u001b[0;36m32\u001b[0m\u001b[0;34m,\u001b[0m\u001b[0;36m32\u001b[0m\u001b[0;34m)\u001b[0m\u001b[0;34m)\u001b[0m\u001b[0;34m\u001b[0m\u001b[0;34m\u001b[0m\u001b[0m\n\u001b[0m",
            "\u001b[0;32m/usr/local/lib/python3.8/dist-packages/torchsummary/torchsummary.py\u001b[0m in \u001b[0;36msummary\u001b[0;34m(model, input_size, batch_size, device)\u001b[0m\n\u001b[1;32m     70\u001b[0m     \u001b[0;31m# make a forward pass\u001b[0m\u001b[0;34m\u001b[0m\u001b[0;34m\u001b[0m\u001b[0;34m\u001b[0m\u001b[0m\n\u001b[1;32m     71\u001b[0m     \u001b[0;31m# print(x.shape)\u001b[0m\u001b[0;34m\u001b[0m\u001b[0;34m\u001b[0m\u001b[0;34m\u001b[0m\u001b[0m\n\u001b[0;32m---> 72\u001b[0;31m     \u001b[0mmodel\u001b[0m\u001b[0;34m(\u001b[0m\u001b[0;34m*\u001b[0m\u001b[0mx\u001b[0m\u001b[0;34m)\u001b[0m\u001b[0;34m\u001b[0m\u001b[0;34m\u001b[0m\u001b[0m\n\u001b[0m\u001b[1;32m     73\u001b[0m \u001b[0;34m\u001b[0m\u001b[0m\n\u001b[1;32m     74\u001b[0m     \u001b[0;31m# remove these hooks\u001b[0m\u001b[0;34m\u001b[0m\u001b[0;34m\u001b[0m\u001b[0;34m\u001b[0m\u001b[0m\n",
            "\u001b[0;32m/usr/local/lib/python3.8/dist-packages/torch/nn/modules/module.py\u001b[0m in \u001b[0;36m_call_impl\u001b[0;34m(self, *input, **kwargs)\u001b[0m\n\u001b[1;32m   1188\u001b[0m         if not (self._backward_hooks or self._forward_hooks or self._forward_pre_hooks or _global_backward_hooks\n\u001b[1;32m   1189\u001b[0m                 or _global_forward_hooks or _global_forward_pre_hooks):\n\u001b[0;32m-> 1190\u001b[0;31m             \u001b[0;32mreturn\u001b[0m \u001b[0mforward_call\u001b[0m\u001b[0;34m(\u001b[0m\u001b[0;34m*\u001b[0m\u001b[0minput\u001b[0m\u001b[0;34m,\u001b[0m \u001b[0;34m**\u001b[0m\u001b[0mkwargs\u001b[0m\u001b[0;34m)\u001b[0m\u001b[0;34m\u001b[0m\u001b[0;34m\u001b[0m\u001b[0m\n\u001b[0m\u001b[1;32m   1191\u001b[0m         \u001b[0;31m# Do not call functions when jit is used\u001b[0m\u001b[0;34m\u001b[0m\u001b[0;34m\u001b[0m\u001b[0;34m\u001b[0m\u001b[0m\n\u001b[1;32m   1192\u001b[0m         \u001b[0mfull_backward_hooks\u001b[0m\u001b[0;34m,\u001b[0m \u001b[0mnon_full_backward_hooks\u001b[0m \u001b[0;34m=\u001b[0m \u001b[0;34m[\u001b[0m\u001b[0;34m]\u001b[0m\u001b[0;34m,\u001b[0m \u001b[0;34m[\u001b[0m\u001b[0;34m]\u001b[0m\u001b[0;34m\u001b[0m\u001b[0;34m\u001b[0m\u001b[0m\n",
            "\u001b[0;32m<ipython-input-287-5d3c26aabb49>\u001b[0m in \u001b[0;36mforward\u001b[0;34m(self, x)\u001b[0m\n\u001b[1;32m     16\u001b[0m     \u001b[0;32mdef\u001b[0m \u001b[0mforward\u001b[0m\u001b[0;34m(\u001b[0m\u001b[0mself\u001b[0m\u001b[0;34m,\u001b[0m \u001b[0mx\u001b[0m\u001b[0;34m)\u001b[0m\u001b[0;34m:\u001b[0m\u001b[0;34m\u001b[0m\u001b[0;34m\u001b[0m\u001b[0m\n\u001b[1;32m     17\u001b[0m         \u001b[0mprint\u001b[0m\u001b[0;34m(\u001b[0m\u001b[0mx\u001b[0m\u001b[0;34m.\u001b[0m\u001b[0msize\u001b[0m\u001b[0;34m(\u001b[0m\u001b[0;34m)\u001b[0m\u001b[0;34m)\u001b[0m\u001b[0;34m\u001b[0m\u001b[0;34m\u001b[0m\u001b[0m\n\u001b[0;32m---> 18\u001b[0;31m         \u001b[0mx\u001b[0m \u001b[0;34m=\u001b[0m \u001b[0mF\u001b[0m\u001b[0;34m.\u001b[0m\u001b[0mrelu\u001b[0m\u001b[0;34m(\u001b[0m\u001b[0mself\u001b[0m\u001b[0;34m.\u001b[0m\u001b[0menc1\u001b[0m\u001b[0;34m(\u001b[0m\u001b[0mx\u001b[0m\u001b[0;34m)\u001b[0m\u001b[0;34m)\u001b[0m\u001b[0;34m\u001b[0m\u001b[0;34m\u001b[0m\u001b[0m\n\u001b[0m\u001b[1;32m     19\u001b[0m         \u001b[0mx\u001b[0m \u001b[0;34m=\u001b[0m \u001b[0mF\u001b[0m\u001b[0;34m.\u001b[0m\u001b[0mrelu\u001b[0m\u001b[0;34m(\u001b[0m\u001b[0mself\u001b[0m\u001b[0;34m.\u001b[0m\u001b[0menc2\u001b[0m\u001b[0;34m(\u001b[0m\u001b[0mx\u001b[0m\u001b[0;34m)\u001b[0m\u001b[0;34m)\u001b[0m\u001b[0;34m\u001b[0m\u001b[0;34m\u001b[0m\u001b[0m\n\u001b[1;32m     20\u001b[0m         \u001b[0mx\u001b[0m \u001b[0;34m=\u001b[0m \u001b[0mF\u001b[0m\u001b[0;34m.\u001b[0m\u001b[0mrelu\u001b[0m\u001b[0;34m(\u001b[0m\u001b[0mself\u001b[0m\u001b[0;34m.\u001b[0m\u001b[0menc3\u001b[0m\u001b[0;34m(\u001b[0m\u001b[0mx\u001b[0m\u001b[0;34m)\u001b[0m\u001b[0;34m)\u001b[0m\u001b[0;34m\u001b[0m\u001b[0;34m\u001b[0m\u001b[0m\n",
            "\u001b[0;32m/usr/local/lib/python3.8/dist-packages/torch/nn/modules/module.py\u001b[0m in \u001b[0;36m_call_impl\u001b[0;34m(self, *input, **kwargs)\u001b[0m\n\u001b[1;32m   1206\u001b[0m             \u001b[0minput\u001b[0m \u001b[0;34m=\u001b[0m \u001b[0mbw_hook\u001b[0m\u001b[0;34m.\u001b[0m\u001b[0msetup_input_hook\u001b[0m\u001b[0;34m(\u001b[0m\u001b[0minput\u001b[0m\u001b[0;34m)\u001b[0m\u001b[0;34m\u001b[0m\u001b[0;34m\u001b[0m\u001b[0m\n\u001b[1;32m   1207\u001b[0m \u001b[0;34m\u001b[0m\u001b[0m\n\u001b[0;32m-> 1208\u001b[0;31m         \u001b[0mresult\u001b[0m \u001b[0;34m=\u001b[0m \u001b[0mforward_call\u001b[0m\u001b[0;34m(\u001b[0m\u001b[0;34m*\u001b[0m\u001b[0minput\u001b[0m\u001b[0;34m,\u001b[0m \u001b[0;34m**\u001b[0m\u001b[0mkwargs\u001b[0m\u001b[0;34m)\u001b[0m\u001b[0;34m\u001b[0m\u001b[0;34m\u001b[0m\u001b[0m\n\u001b[0m\u001b[1;32m   1209\u001b[0m         \u001b[0;32mif\u001b[0m \u001b[0m_global_forward_hooks\u001b[0m \u001b[0;32mor\u001b[0m \u001b[0mself\u001b[0m\u001b[0;34m.\u001b[0m\u001b[0m_forward_hooks\u001b[0m\u001b[0;34m:\u001b[0m\u001b[0;34m\u001b[0m\u001b[0;34m\u001b[0m\u001b[0m\n\u001b[1;32m   1210\u001b[0m             \u001b[0;32mfor\u001b[0m \u001b[0mhook\u001b[0m \u001b[0;32min\u001b[0m \u001b[0;34m(\u001b[0m\u001b[0;34m*\u001b[0m\u001b[0m_global_forward_hooks\u001b[0m\u001b[0;34m.\u001b[0m\u001b[0mvalues\u001b[0m\u001b[0;34m(\u001b[0m\u001b[0;34m)\u001b[0m\u001b[0;34m,\u001b[0m \u001b[0;34m*\u001b[0m\u001b[0mself\u001b[0m\u001b[0;34m.\u001b[0m\u001b[0m_forward_hooks\u001b[0m\u001b[0;34m.\u001b[0m\u001b[0mvalues\u001b[0m\u001b[0;34m(\u001b[0m\u001b[0;34m)\u001b[0m\u001b[0;34m)\u001b[0m\u001b[0;34m:\u001b[0m\u001b[0;34m\u001b[0m\u001b[0;34m\u001b[0m\u001b[0m\n",
            "\u001b[0;32m/usr/local/lib/python3.8/dist-packages/torch/nn/modules/linear.py\u001b[0m in \u001b[0;36mforward\u001b[0;34m(self, input)\u001b[0m\n\u001b[1;32m    112\u001b[0m \u001b[0;34m\u001b[0m\u001b[0m\n\u001b[1;32m    113\u001b[0m     \u001b[0;32mdef\u001b[0m \u001b[0mforward\u001b[0m\u001b[0;34m(\u001b[0m\u001b[0mself\u001b[0m\u001b[0;34m,\u001b[0m \u001b[0minput\u001b[0m\u001b[0;34m:\u001b[0m \u001b[0mTensor\u001b[0m\u001b[0;34m)\u001b[0m \u001b[0;34m->\u001b[0m \u001b[0mTensor\u001b[0m\u001b[0;34m:\u001b[0m\u001b[0;34m\u001b[0m\u001b[0;34m\u001b[0m\u001b[0m\n\u001b[0;32m--> 114\u001b[0;31m         \u001b[0;32mreturn\u001b[0m \u001b[0mF\u001b[0m\u001b[0;34m.\u001b[0m\u001b[0mlinear\u001b[0m\u001b[0;34m(\u001b[0m\u001b[0minput\u001b[0m\u001b[0;34m,\u001b[0m \u001b[0mself\u001b[0m\u001b[0;34m.\u001b[0m\u001b[0mweight\u001b[0m\u001b[0;34m,\u001b[0m \u001b[0mself\u001b[0m\u001b[0;34m.\u001b[0m\u001b[0mbias\u001b[0m\u001b[0;34m)\u001b[0m\u001b[0;34m\u001b[0m\u001b[0;34m\u001b[0m\u001b[0m\n\u001b[0m\u001b[1;32m    115\u001b[0m \u001b[0;34m\u001b[0m\u001b[0m\n\u001b[1;32m    116\u001b[0m     \u001b[0;32mdef\u001b[0m \u001b[0mextra_repr\u001b[0m\u001b[0;34m(\u001b[0m\u001b[0mself\u001b[0m\u001b[0;34m)\u001b[0m \u001b[0;34m->\u001b[0m \u001b[0mstr\u001b[0m\u001b[0;34m:\u001b[0m\u001b[0;34m\u001b[0m\u001b[0;34m\u001b[0m\u001b[0m\n",
            "\u001b[0;31mRuntimeError\u001b[0m: mat1 and mat2 shapes cannot be multiplied (192x32 and 1024x256)"
          ]
        }
      ],
      "source": [
        "from torchsummary import summary\n",
        "\n",
        "summary(net,(3,32,32))"
      ]
    },
    {
      "cell_type": "markdown",
      "metadata": {
        "id": "iB5cYoxyCIF1"
      },
      "source": [
        "#Simple MLP"
      ]
    },
    {
      "cell_type": "code",
      "execution_count": null,
      "metadata": {
        "id": "plUaNfXnCKGH"
      },
      "outputs": [],
      "source": [
        "class Autoencoder(nn.Module):\n",
        "    def __init__(self):\n",
        "        super(Autoencoder, self).__init__()\n",
        "        # encoder\n",
        "        self.enc1 = nn.Linear(in_features=32*32, out_features=256)\n",
        "        self.enc2 = nn.Linear(in_features=256, out_features=128)\n",
        "        self.enc3 = nn.Linear(in_features=128, out_features=64)\n",
        "        self.enc4 = nn.Linear(in_features=64, out_features=32)\n",
        "        self.enc5 = nn.Linear(in_features=32, out_features=16)\n",
        "        # decoder \n",
        "        self.dec1 = nn.Linear(in_features=16, out_features=32)\n",
        "        self.dec2 = nn.Linear(in_features=32, out_features=64)\n",
        "        self.dec3 = nn.Linear(in_features=64, out_features=128)\n",
        "        self.dec4 = nn.Linear(in_features=128, out_features=256)\n",
        "        self.dec5 = nn.Linear(in_features=256, out_features=32*32*2)\n",
        "    def forward(self, x):\n",
        "        print(x.size())\n",
        "        x = F.relu(self.enc1(x))\n",
        "        x = F.relu(self.enc2(x))\n",
        "        x = F.relu(self.enc3(x))\n",
        "        x = F.relu(self.enc4(x))\n",
        "        x = F.relu(self.enc5(x))\n",
        "        x = F.relu(self.dec1(x))\n",
        "        x = F.relu(self.dec2(x))\n",
        "        x = F.relu(self.dec3(x))\n",
        "        x = F.relu(self.dec4(x))\n",
        "        x = F.relu(self.dec5(x))\n",
        "        return x\n",
        "net = Autoencoder()"
      ]
    },
    {
      "cell_type": "code",
      "execution_count": null,
      "metadata": {
        "id": "7jIwwKUVLFtf"
      },
      "outputs": [],
      "source": [
        "class A(nn.Module):\n",
        "    def __init__(self):\n",
        "        super(A, self).__init__()\n",
        "\n",
        "        \"\"\" encoder \"\"\"\n",
        "        self.conv1 = nn.Conv2d(3, 32, kernel_size=(3,3))\n",
        "        self.batchnorm1_e = nn.BatchNorm2d(32)\n",
        "\n",
        "        self.conv2 = nn.Conv2d(32, 64, kernel_size=(4, 4), stride=3)\n",
        "        self.batchnorm2_e = nn.BatchNorm2d(64)\n",
        "\n",
        "        self.conv3 = nn.Conv2d(64, 128, kernel_size=(3, 3), stride=3)\n",
        "        self.batchnorm3_e = nn.BatchNorm2d(128)\n",
        "\n",
        "        self.maxpool2x2 = nn.MaxPool2d(2)   # not in usage\n",
        "\n",
        "        \"\"\" decoder \"\"\"\n",
        "        self.upsample2x2 = nn.Upsample(scale_factor=2)   # not in usage\n",
        "\n",
        "        self.deconv1 = nn.ConvTranspose2d(128, 64, kernel_size=(3, 3), stride=3)\n",
        "        self.batchnorm1 = nn.BatchNorm2d(64)\n",
        "\n",
        "        self.deconv2 = nn.ConvTranspose2d(64, 32, kernel_size=(4, 4), stride=3)\n",
        "        self.batchnorm2 = nn.BatchNorm2d(32)\n",
        "\n",
        "        self.deconv3 = nn.ConvTranspose2d(32, 6, kernel_size=(5, 5))\n",
        "        self.batchnorm3 = nn.BatchNorm2d(6)\n",
        "    \n",
        "\n",
        "    def forward(self, x, train_: bool=True, print_: bool=False, return_bottlenecks: bool=False):\n",
        "\n",
        "        \"\"\" encoder \"\"\"\n",
        "        x = self.conv1(x)\n",
        "        # print(x.size())\n",
        "        x = self.batchnorm1_e(x)\n",
        "        x = F.relu(x)\n",
        "\n",
        "        x = self.conv2(x)\n",
        "        x = self.batchnorm2_e(x)\n",
        "        x = F.relu(x)\n",
        "\n",
        "        x = self.conv3(x)\n",
        "        x = self.batchnorm3_e(x)\n",
        "        bottlenecks = F.relu(x)\n",
        "\n",
        "        \"\"\" decoder \"\"\"\n",
        "        x = self.deconv1(bottlenecks)\n",
        "        x = self.batchnorm1(x)\n",
        "        x = F.relu(x)\n",
        "\n",
        "        x = self.deconv2(x)\n",
        "        x = self.batchnorm2(x)\n",
        "        x = F.relu(x)\n",
        "\n",
        "        x = self.deconv3(x)\n",
        "        x = torch.sigmoid(x)\n",
        "\n",
        "        return x"
      ]
    },
    {
      "cell_type": "code",
      "execution_count": null,
      "metadata": {
        "id": "bIfi7_l_LF00"
      },
      "outputs": [],
      "source": [
        "class ConvAutoencoder(nn.Module):\n",
        "    def __init__(self):\n",
        "        super(ConvAutoencoder, self).__init__()\n",
        "       \n",
        "        #Encoder\n",
        "        self.conv1 = nn.Conv2d(3, 1024, 3, padding=1)  \n",
        "        self.conv2 = nn.Conv2d(1024, 512, 3, padding=1)\n",
        "        self.conv3 = nn.Conv2d(512, 256, 3, padding=1)\n",
        "        self.conv4 = nn.Conv2d(256, 128, 3, padding=1)\n",
        "        self.conv5 = nn.Conv2d(128, 64, 3, padding=1)\n",
        "\n",
        "        self.pool = nn.MaxPool2d(2, 2)\n",
        "       \n",
        "        #Decoder\n",
        "        # self.t_conv1 = nn.ConvTranspose2d(64, 128, 2, stride=2)\n",
        "        # self.t_conv2 = nn.ConvTranspose2d(128, 6, 2, stride=1)\n",
        "        self.t_conv1 = nn.ConvTranspose2d(64, 128, 2)\n",
        "        self.t_conv2 = nn.ConvTranspose2d(128, 256, 2, stride=2)\n",
        "        self.t_conv3 = nn.ConvTranspose2d(256, 512, 2, stride=2)\n",
        "        self.t_conv4 = nn.ConvTranspose2d(512, 1024, 2, stride=1)\n",
        "        self.t_conv5 = nn.ConvTranspose2d(1024, 6, 2)\n",
        "\n",
        "\n",
        "    def forward(self, x):\n",
        "        x = F.relu(self.conv1(x))\n",
        "        x = self.pool(x)\n",
        "        x = F.relu(self.conv2(x))\n",
        "        x = F.relu(self.conv3(x))\n",
        "        x = F.relu(self.conv4(x))\n",
        "        x = self.pool(x)\n",
        "        x = F.relu(self.conv5(x))\n",
        "        x = self.pool(x)\n",
        "        x = F.relu(self.t_conv1(x))\n",
        "        x = F.relu(self.t_conv2(x))\n",
        "        x = F.relu(self.t_conv3(x))\n",
        "        x = F.relu(self.t_conv4(x))\n",
        "        x = F.relu(self.t_conv5(x))\n",
        "        \n",
        "        return x"
      ]
    },
    {
      "cell_type": "markdown",
      "metadata": {
        "id": "rFxbAQjZLwP7"
      },
      "source": [
        "# More Complex Model"
      ]
    },
    {
      "cell_type": "code",
      "execution_count": 100,
      "metadata": {
        "id": "Ki0z1fubLy-L"
      },
      "outputs": [],
      "source": [
        "class Encoder(nn.Module):\n",
        "\n",
        "    def __init__(self,\n",
        "                 num_input_channels : int,\n",
        "                 base_channel_size : int,\n",
        "                 latent_dim : int,\n",
        "                 act_fn : object = nn.LeakyReLU):\n",
        "        super().__init__()\n",
        "        c_hid = base_channel_size\n",
        "        self.net = nn.Sequential(\n",
        "            nn.Conv2d(num_input_channels, c_hid, kernel_size=3, padding=1, stride=2), # 32x32 => 16x16\n",
        "            nn.BatchNorm2d(c_hid),\n",
        "            act_fn(),\n",
        "            nn.Conv2d(c_hid, c_hid, kernel_size=3, padding=1),\n",
        "            nn.BatchNorm2d(c_hid),\n",
        "            act_fn(),\n",
        "            nn.Conv2d(c_hid, 2*c_hid, kernel_size=3, padding=1, stride=2), # 16x16 => 8x8\n",
        "            nn.BatchNorm2d(2*c_hid),\n",
        "            act_fn(),\n",
        "            nn.Conv2d(2*c_hid, 2*c_hid, kernel_size=3, padding=1),\n",
        "            nn.BatchNorm2d(2*c_hid),\n",
        "            act_fn(),\n",
        "            nn.Conv2d(2*c_hid, 2*c_hid, kernel_size=3, padding=1, stride=2), # 8x8 => 4x4\n",
        "            nn.BatchNorm2d(2*c_hid),\n",
        "            act_fn(),\n",
        "            nn.Flatten(), # Image grid to single feature vector\n",
        "            nn.Linear(2*16*c_hid, latent_dim),\n",
        "            nn.BatchNorm1d(latent_dim),\n",
        "            act_fn(),\n",
        "            nn.Linear(latent_dim, 16),\n",
        "            nn.BatchNorm1d(16),\n",
        "            act_fn(),\n",
        "            nn.Linear(16, 8),\n",
        "            nn.BatchNorm1d(8),\n",
        "            act_fn(),\n",
        "            nn.Linear(8, 4),\n",
        "            nn.BatchNorm1d(4),\n",
        "            act_fn()\n",
        "\n",
        "\n",
        "        )\n",
        "\n",
        "    def forward(self, x):\n",
        "        return self.net(x)\n"
      ]
    },
    {
      "cell_type": "code",
      "execution_count": 108,
      "metadata": {
        "id": "3i1h75RgL1Mm"
      },
      "outputs": [],
      "source": [
        "class Decoder(nn.Module):\n",
        "\n",
        "    def __init__(self,\n",
        "                 num_input_channels : int,\n",
        "                 base_channel_size : int,\n",
        "                 latent_dim : int,\n",
        "                 act_fn : object = nn.LeakyReLU):\n",
        "        super().__init__()\n",
        "        c_hid = base_channel_size\n",
        "        self.linear = nn.Sequential(\n",
        "            nn.Linear(4, 8),\n",
        "            nn.BatchNorm1d(8),\n",
        "            act_fn(),\n",
        "            nn.Linear(8, 16),\n",
        "            nn.BatchNorm1d(16),\n",
        "            act_fn(),\n",
        "            nn.Linear(16, latent_dim),\n",
        "            nn.BatchNorm1d(latent_dim),\n",
        "            act_fn(),\n",
        "            nn.Linear(latent_dim, 2*16*c_hid),\n",
        "            nn.BatchNorm1d(2*16*c_hid),\n",
        "            act_fn()\n",
        "        )\n",
        "        self.net = nn.Sequential(\n",
        "            nn.ConvTranspose2d(2*c_hid, 2*c_hid, kernel_size=3, output_padding=1, padding=1, stride=2), # 4x4 => 8x8\n",
        "            nn.BatchNorm2d(2*c_hid),\n",
        "            act_fn(),\n",
        "            nn.Conv2d(2*c_hid, 2*c_hid, kernel_size=3, padding=1),\n",
        "            nn.BatchNorm2d(2*c_hid),\n",
        "            act_fn(),\n",
        "            nn.ConvTranspose2d(2*c_hid, c_hid, kernel_size=3, output_padding=1, padding=1, stride=2), # 8x8 => 16x16\n",
        "            nn.BatchNorm2d(c_hid),\n",
        "            act_fn(),\n",
        "            nn.Conv2d(c_hid, c_hid, kernel_size=3, padding=1),\n",
        "            nn.BatchNorm2d(c_hid),\n",
        "            act_fn(),\n",
        "            nn.ConvTranspose2d(c_hid, num_input_channels*2, kernel_size=3, output_padding=1, padding=1, stride=2), # 16x16 => 32x32\n",
        "            nn.Sigmoid() # The input images is scaled between -1 and 1, hence the output has to be bounded as well\n",
        "        )\n",
        "\n",
        "    def forward(self, x):\n",
        "        x = self.linear(x)\n",
        "        x = x.reshape(x.shape[0], -1, 4, 4)\n",
        "        x = self.net(x)\n",
        "        return x\n"
      ]
    },
    {
      "cell_type": "code",
      "execution_count": 109,
      "metadata": {
        "id": "f8G1RVzTTfUJ"
      },
      "outputs": [],
      "source": [
        "encoder = Encoder(3, 32, 64)"
      ]
    },
    {
      "cell_type": "code",
      "execution_count": 110,
      "metadata": {
        "id": "qWCfDP43L1VP"
      },
      "outputs": [],
      "source": [
        "class Autoencoder(nn.Module):\n",
        "\n",
        "    def __init__(self,\n",
        "                 base_channel_size: int,\n",
        "                 latent_dim: int,\n",
        "                 encoder_class : object = Encoder,\n",
        "                 decoder_class : object = Decoder,\n",
        "                 num_input_channels: int = 3,\n",
        "                 width: int = 32,\n",
        "                 height: int = 32):\n",
        "        super().__init__()\n",
        "        self.encoder = encoder_class\n",
        "        self.decoder = decoder_class(num_input_channels, base_channel_size, latent_dim)\n",
        "        self.example_input_array = torch.zeros(2, num_input_channels, width, height)\n",
        "\n",
        "    def forward(self, x):\n",
        "        \"\"\"\n",
        "        The forward function takes in an image and returns the reconstructed image\n",
        "        \"\"\"\n",
        "        z = self.encoder(x)\n",
        "        x_hat = self.decoder(z)\n",
        "        return x_hat"
      ]
    },
    {
      "cell_type": "code",
      "source": [],
      "metadata": {
        "id": "K5RxZ5YVpzna"
      },
      "execution_count": null,
      "outputs": []
    },
    {
      "cell_type": "code",
      "execution_count": null,
      "metadata": {
        "id": "_OGfApyUL1a8"
      },
      "outputs": [],
      "source": [
        "import torch\n",
        "import torch.nn as nn\n",
        "import torch.utils.data as Data\n",
        "import torchvision      \n",
        "import matplotlib.pyplot as plt\n",
        "import numpy as np\n",
        "\n",
        "\n",
        "class AutoEncoder(nn.Module):\n",
        "    def __init__(self):\n",
        "        super(AutoEncoder, self).__init__()\n",
        "\n",
        "        \n",
        "        self.encoder = nn.Sequential(\n",
        "            nn.Conv2d(\n",
        "                in_channels=3,      \n",
        "                out_channels=16,    \n",
        "                kernel_size=3,      \n",
        "                stride=1,          \n",
        "                padding=1,      \n",
        "            ),      \n",
        "            nn.LeakyReLU(),    \n",
        "            nn.Conv2d(\n",
        "                in_channels=16,     \n",
        "                out_channels=32,    \n",
        "                kernel_size=3,      \n",
        "                stride=1,          \n",
        "                padding=1,      \n",
        "            ),     \n",
        "            nn.LeakyReLU(),    \n",
        "            nn.MaxPool2d(kernel_size=2),     \n",
        "            nn.Conv2d(\n",
        "                in_channels=32,     \n",
        "                out_channels=32,    \n",
        "                kernel_size=5,      \n",
        "                stride=1,          \n",
        "                padding=2,      \n",
        "            ),      \n",
        "            nn.LeakyReLU(),    \n",
        "            nn.Conv2d(\n",
        "                in_channels=32,     \n",
        "                out_channels=64,    \n",
        "                kernel_size=5,      \n",
        "                stride=1,          \n",
        "                padding=2,      \n",
        "            ),      \n",
        "            nn.LeakyReLU(),    \n",
        "            nn.MaxPool2d(kernel_size=2),    \n",
        "        )\n",
        "        \n",
        "        self.decoder = nn.Sequential(\n",
        "                nn.ConvTranspose2d(\n",
        "                in_channels=64,     \n",
        "                out_channels=32,    \n",
        "                kernel_size=2,      \n",
        "                stride=2,          \n",
        "                padding=0,      \n",
        "            ),     \n",
        "            nn.LeakyReLU(),        \n",
        "            nn.Conv2d(\n",
        "                in_channels=32,     \n",
        "                out_channels=32,    \n",
        "                kernel_size=5,      \n",
        "                stride=1,          \n",
        "                padding=2,      \n",
        "            ),      \n",
        "            nn.LeakyReLU(),    \n",
        "           nn.ConvTranspose2d(\n",
        "                in_channels=32,     \n",
        "                out_channels=16,    \n",
        "                kernel_size=5,      \n",
        "                stride=1,          \n",
        "                padding=2,      \n",
        "            ),\n",
        "            nn.Conv2d(\n",
        "                in_channels=16,     \n",
        "                out_channels=16,    \n",
        "                kernel_size=5,      \n",
        "                stride=1,          \n",
        "                padding=2,     \n",
        "            ),      \n",
        "            nn.LeakyReLU(),           \n",
        "             nn.ConvTranspose2d(\n",
        "                in_channels=16,     \n",
        "                out_channels=16,    \n",
        "                kernel_size=2,      \n",
        "                stride=2,          \n",
        "                padding=0,      \n",
        "            ), \n",
        "            nn.LeakyReLU(),\n",
        "            nn.Conv2d(\n",
        "                in_channels=16,     \n",
        "                out_channels=16,    \n",
        "                kernel_size=3,      \n",
        "                stride=1,          \n",
        "                padding=1,      \n",
        "            ),     \n",
        "            nn.LeakyReLU(),                \n",
        "           nn.ConvTranspose2d(\n",
        "                in_channels=16,     \n",
        "                out_channels=3,    \n",
        "                kernel_size=5,      \n",
        "                stride=1,          \n",
        "                padding=2,      \n",
        "            ),\n",
        "            nn.Conv2d(\n",
        "                in_channels=3,     \n",
        "                out_channels=6,    \n",
        "                kernel_size=3,      \n",
        "                stride=1,          \n",
        "                padding=1,      \n",
        "            ),    \n",
        "            nn.ReLU(),  \n",
        "        )\n",
        "\n",
        "    def forward(self, x):\n",
        "        encoded = self.encoder(x)\n",
        "        decoded = self.decoder(encoded)\n",
        "        return decoded"
      ]
    },
    {
      "cell_type": "code",
      "source": [
        "device = torch.device(\"cuda:0\" if torch.cuda.is_available() else \"cpu\")\n",
        "net =  Autoencoder(base_channel_size=32, latent_dim=64, encoder_class=encoder)\n",
        "optimizer = optim.Adam(net.parameters(), lr=0.1, betas=(0.9, 0.999), eps=1e-08, weight_decay=0, amsgrad=False)\n",
        "net.to('cuda:0')\n",
        "criterion = nn.MSELoss()\n"
      ],
      "metadata": {
        "id": "J_OKuscWp2zc"
      },
      "execution_count": 111,
      "outputs": []
    },
    {
      "cell_type": "code",
      "source": [
        "loss_hist, acc_hist = [], []\n",
        "loss_hist_val, acc_hist_val = [], []\n",
        "\n",
        "for epoch in range(140):\n",
        "    net.train()\n",
        "\n",
        "    running_loss = 0.0\n",
        "    correct = 0\n",
        "    for data in train_dataloader:\n",
        "        batch, labels = data\n",
        "        batch = batch.float()\n",
        "        # labels[0] = torch.tensor(labels[0]).to('cuda:0')\n",
        "        # labels[1] = torch.tensor(labels[1]).to('cuda:0')\n",
        "\n",
        "        batch , labels = batch.to('cuda:0') , labels.to('cuda:0')\n",
        "        batch, labels = batch.cuda(), labels.cuda() # add this line\n",
        "\n",
        "        optimizer.zero_grad()\n",
        "        # optimizer2.zero_grad()\n",
        "\n",
        "        # outputs = net(batch)\n",
        "        output1 = outputs[:,3:,:,:]\n",
        "        output2 = outputs[:,:3,:,:]\n",
        "        # # print(outputs.size())\n",
        "\n",
        "        loss1 = criterion(output1, labels[:,:,32:,:].float())\n",
        "        loss2 = criterion(output2, labels[:,:,:32,:].float())\n",
        "        loss = loss1 + loss2\n",
        "\n",
        "        # outputs1 = net(batch)\n",
        "        # loss1 = criterion(outputs1, labels[:,:,32:,:].float())\n",
        "        # plt.imshow()\n",
        "        # loss = criterion(outputs1, labels.float())\n",
        "\n",
        "        loss.backward()\n",
        "\n",
        "        # outputs2 = net2(batch)\n",
        "        # loss2 = criterion(outputs1, labels[:,:,32:,:].float())\n",
        "        # loss2 = criterion(outputs1, labels.float())\n",
        "\n",
        "        # loss2.backward(retain_graph=True)\n",
        "\n",
        "        optimizer.step()\n",
        "        # optimizer2.step()\n",
        "\n",
        "        # compute training statistics\n",
        "        # _, predicted = torch.max(outputs, 1)\n",
        "        # print(loss)\n",
        "\n",
        "        # correct += (predicted == labels).sum().item()\n",
        "        running_loss += loss.item()\n",
        "\n",
        "    avg_loss = running_loss / len(train_set)\n",
        "    loss_hist.append(avg_loss)\n",
        "\n",
        "    # validation statistics\n",
        "    net.eval()\n",
        "    loss_val = 0.0\n",
        "    correct_val = 0\n",
        "    for data in valid_loader:\n",
        "      batch, labels = data\n",
        "        batch = batch.float()\n",
        "        batch , labels = batch.to('cuda:0') , labels.to('cuda:0')\n",
        "        batch, labels = batch.cuda(), labels.cuda() # add this line\n",
        "        optimizer.zero_grad()\n",
        "\n",
        "        output1 = outputs[:,3:,:,:]\n",
        "        output2 = outputs[:,:3,:,:]\n",
        "\n",
        "        loss1 = criterion(output1, labels[:,:,32:,:].float())\n",
        "        loss2 = criterion(output2, labels[:,:,:32,:].float())\n",
        "        loss = loss1 + loss2\n",
        "\n",
        "        loss = criterion(outputs1, labels.float())\n",
        "        loss_val += loss.item()\n",
        "    avg_loss_val = loss_val / len(val_set)\n",
        "    loss_hist_val.append(avg_loss_val)\n",
        "  net.train()\n",
        "  print('[epoch %d] loss: %.5f accuracy: %.4f val loss: %.5f val accuracy: %.4f' % (epoch + 1, avg_loss, avg_loss_val))\n"
      ],
      "metadata": {
        "colab": {
          "base_uri": "https://localhost:8080/",
          "height": 130
        },
        "id": "PVz6rJunqEK1",
        "outputId": "d5b3f183-29ce-4a2e-f2ad-b2a282809474"
      },
      "execution_count": 106,
      "outputs": [
        {
          "output_type": "error",
          "ename": "IndentationError",
          "evalue": "ignored",
          "traceback": [
            "\u001b[0;36m  File \u001b[0;32m\"<tokenize>\"\u001b[0;36m, line \u001b[0;32m78\u001b[0m\n\u001b[0;31m    net.train()\u001b[0m\n\u001b[0m    ^\u001b[0m\n\u001b[0;31mIndentationError\u001b[0m\u001b[0;31m:\u001b[0m unindent does not match any outer indentation level\n"
          ]
        }
      ]
    },
    {
      "cell_type": "code",
      "source": [
        "scheduler = optim.lr_scheduler.ReduceLROnPlateau(optimizer, mode='min', factor=0.1, patience=10, verbose=True, min_lr=0)\n",
        "\n",
        "loss_hist, acc_hist = [], []\n",
        "loss_hist_val, acc_hist_val = [], []\n",
        "\n",
        "for epoch in range(10):\n",
        "  running_loss = 0.0\n",
        "  correct = 0\n",
        "  for data in train_dataloader:\n",
        "    batch, labels = data\n",
        "    batch = batch.float()\n",
        "    batch, labels = batch.to(device), labels.to(device)\n",
        "\n",
        "    optimizer.zero_grad()\n",
        "    outputs = net(batch)\n",
        "    # loss = criterion(outputs, labels)\n",
        "\n",
        "    output1 = outputs[:,3:,:,:]\n",
        "    output2 = outputs[:,:3,:,:]\n",
        "    # # print(outputs.size())\n",
        "\n",
        "    loss1 = criterion(output1, labels[:,:,32:,:].float())\n",
        "    loss2 = criterion(output2, labels[:,:,:32,:].float())\n",
        "    loss = loss1 + loss2\n",
        "\n",
        "    loss.backward()\n",
        "    optimizer.step()\n",
        "\n",
        "    # compute training statistics\n",
        "    # _, predicted = torch.max(outputs, 1)\n",
        "    # correct += (predicted == labels).sum().item()\n",
        "    running_loss += loss.item()\n",
        "\n",
        "  avg_loss = running_loss / len(train_set)\n",
        "  # avg_acc = correct /len(train_set)\n",
        "  loss_hist.append(avg_loss)\n",
        "  # acc_hist.append(avg_acc)\n",
        "\n",
        "  # validation statistics\n",
        "  net.eval()\n",
        "  with torch.no_grad():\n",
        "    loss_val = 0.0\n",
        "    correct_val = 0\n",
        "    for data in valid_loader:\n",
        "      batch, labels = data\n",
        "      batch = batch.float()\n",
        "      batch, labels = batch.to(device), labels.to(device)\n",
        "      outputs = net(batch)\n",
        "      # loss = criterion(outputs, labels)\n",
        "\n",
        "      output1 = outputs[:,3:,:,:]\n",
        "      output2 = outputs[:,:3,:,:]\n",
        "      # # print(outputs.size())\n",
        "\n",
        "      loss1 = criterion(output1, labels[:,:,32:,:].float())\n",
        "      loss2 = criterion(output2, labels[:,:,:32,:].float())\n",
        "      loss = loss1 + loss2\n",
        "      # loss = criterion(outputs, labels)\n",
        "      # _, predicted = torch.max(outputs, 1)\n",
        "      # correct_val += (predicted == labels).sum().item()\n",
        "      loss_val += loss.item()\n",
        "    avg_loss_val = loss_val / len(val_set)\n",
        "    # avg_acc_val = correct_val / len(val_set)\n",
        "    loss_hist_val.append(avg_loss_val)\n",
        "    # acc_hist_val.append(avg_acc_val)\n",
        "  net.train()\n",
        "\n",
        "  scheduler.step(avg_loss_val)\n",
        "  print('[epoch %d] loss: %.5f val loss: %.5f' % (epoch + 1, avg_loss, avg_loss_val))"
      ],
      "metadata": {
        "colab": {
          "base_uri": "https://localhost:8080/"
        },
        "id": "rv3nVE-Ofx8L",
        "outputId": "0a777119-6429-4b38-c21e-5aafb4f561bd"
      },
      "execution_count": 112,
      "outputs": [
        {
          "output_type": "stream",
          "name": "stdout",
          "text": [
            "[epoch 1] loss: 0.00380 val loss: 0.00360\n",
            "[epoch 2] loss: 0.00353 val loss: 0.00354\n",
            "[epoch 3] loss: 0.00346 val loss: 0.00343\n",
            "[epoch 4] loss: 0.00344 val loss: 0.00350\n",
            "[epoch 5] loss: 0.00344 val loss: 0.00352\n",
            "[epoch 6] loss: 0.00342 val loss: 0.00342\n",
            "[epoch 7] loss: 0.00341 val loss: 0.00339\n",
            "[epoch 8] loss: 0.00340 val loss: 0.00337\n",
            "[epoch 9] loss: 0.00340 val loss: 0.00350\n",
            "[epoch 10] loss: 0.00340 val loss: 0.00343\n"
          ]
        }
      ]
    },
    {
      "cell_type": "code",
      "source": [
        "plt.rcParams[\"figure.figsize\"] = [7.50, 3.50]\n",
        "plt.rcParams[\"figure.autolayout\"] = True\n",
        "line1, = plt.plot(loss_hist,label=\"train\")\n",
        "line2, = plt.plot(loss_hist_val,label=\"validation\")\n",
        "leg = plt.legend(loc='upper left')\n",
        "plt.show()"
      ],
      "metadata": {
        "colab": {
          "base_uri": "https://localhost:8080/",
          "height": 261
        },
        "id": "Gmw3my7Bp5-e",
        "outputId": "dd1d4dd1-e3d8-473a-9296-a78bb8edcd2f"
      },
      "execution_count": 113,
      "outputs": [
        {
          "output_type": "display_data",
          "data": {
            "text/plain": [
              "<Figure size 540x252 with 1 Axes>"
            ],
            "image/png": "[encoded data removed]"
          },
          "metadata": {
            "needs_background": "light"
          }
        }
      ]
    },
    {
      "cell_type": "code",
      "source": [],
      "metadata": {
        "id": "RdHiUN0op4KM"
      },
      "execution_count": null,
      "outputs": []
    },
    {
      "cell_type": "code",
      "source": [
        "net.eval()"
      ],
      "metadata": {
        "id": "Kfpursi2nH2r"
      },
      "execution_count": null,
      "outputs": []
    },
    {
      "cell_type": "code",
      "source": [
        "data = []\n",
        "j = 0 \n",
        "net.eval()\n",
        "with torch.no_grad():\n",
        "    for data in train_dataloader:\n",
        "        batch, labels = data\n",
        "        batch, labels = batch.to(device), labels.to(device)\n",
        "        out = net(batch)\n",
        "        # plt.hist(out[1,3:,0,0].cpu().detach().numpy()*255)\n",
        "        plt.imshow(((out[1,3:,:,:].cpu().detach().numpy()*255).T).astype(int))\n",
        "        plt.show()\n",
        "        j = j +1 \n",
        "        if(j>20):\n",
        "          break\n",
        "        print(j)"
      ],
      "metadata": {
        "id": "3t9l-YHjnfQ4"
      },
      "execution_count": null,
      "outputs": []
    },
    {
      "cell_type": "code",
      "source": [
        "out[0,3:,:,:].cpu().detach().numpy()"
      ],
      "metadata": {
        "id": "Nfir5VltpqUU"
      },
      "execution_count": null,
      "outputs": []
    },
    {
      "cell_type": "code",
      "source": [
        "data[0][0].size()"
      ],
      "metadata": {
        "colab": {
          "base_uri": "https://localhost:8080/"
        },
        "id": "cp34Z-KInzHv",
        "outputId": "2dbcf23f-c481-4a45-b6ba-ddda1b7be8d1"
      },
      "execution_count": 64,
      "outputs": [
        {
          "output_type": "execute_result",
          "data": {
            "text/plain": [
              "torch.Size([3, 32, 32])"
            ]
          },
          "metadata": {},
          "execution_count": 64
        }
      ]
    },
    {
      "cell_type": "code",
      "source": [
        "net(data[0][0])"
      ],
      "metadata": {
        "colab": {
          "base_uri": "https://localhost:8080/",
          "height": 328
        },
        "id": "F9R3z0PfnK5i",
        "outputId": "69df8687-f35b-4f3a-d785-0c0f3c614082"
      },
      "execution_count": 65,
      "outputs": [
        {
          "output_type": "error",
          "ename": "RuntimeError",
          "evalue": "ignored",
          "traceback": [
            "\u001b[0;31m---------------------------------------------------------------------------\u001b[0m",
            "\u001b[0;31mRuntimeError\u001b[0m                              Traceback (most recent call last)",
            "\u001b[0;32m<ipython-input-65-b3727e9be165>\u001b[0m in \u001b[0;36m<module>\u001b[0;34m\u001b[0m\n\u001b[0;32m----> 1\u001b[0;31m \u001b[0mnet\u001b[0m\u001b[0;34m(\u001b[0m\u001b[0mdata\u001b[0m\u001b[0;34m[\u001b[0m\u001b[0;36m0\u001b[0m\u001b[0;34m]\u001b[0m\u001b[0;34m[\u001b[0m\u001b[0;36m0\u001b[0m\u001b[0;34m]\u001b[0m\u001b[0;34m)\u001b[0m\u001b[0;34m\u001b[0m\u001b[0;34m\u001b[0m\u001b[0m\n\u001b[0m",
            "\u001b[0;32m/usr/local/lib/python3.8/dist-packages/torch/nn/modules/module.py\u001b[0m in \u001b[0;36m_call_impl\u001b[0;34m(self, *input, **kwargs)\u001b[0m\n\u001b[1;32m   1188\u001b[0m         if not (self._backward_hooks or self._forward_hooks or self._forward_pre_hooks or _global_backward_hooks\n\u001b[1;32m   1189\u001b[0m                 or _global_forward_hooks or _global_forward_pre_hooks):\n\u001b[0;32m-> 1190\u001b[0;31m             \u001b[0;32mreturn\u001b[0m \u001b[0mforward_call\u001b[0m\u001b[0;34m(\u001b[0m\u001b[0;34m*\u001b[0m\u001b[0minput\u001b[0m\u001b[0;34m,\u001b[0m \u001b[0;34m**\u001b[0m\u001b[0mkwargs\u001b[0m\u001b[0;34m)\u001b[0m\u001b[0;34m\u001b[0m\u001b[0;34m\u001b[0m\u001b[0m\n\u001b[0m\u001b[1;32m   1191\u001b[0m         \u001b[0;31m# Do not call functions when jit is used\u001b[0m\u001b[0;34m\u001b[0m\u001b[0;34m\u001b[0m\u001b[0;34m\u001b[0m\u001b[0m\n\u001b[1;32m   1192\u001b[0m         \u001b[0mfull_backward_hooks\u001b[0m\u001b[0;34m,\u001b[0m \u001b[0mnon_full_backward_hooks\u001b[0m \u001b[0;34m=\u001b[0m \u001b[0;34m[\u001b[0m\u001b[0;34m]\u001b[0m\u001b[0;34m,\u001b[0m \u001b[0;34m[\u001b[0m\u001b[0;34m]\u001b[0m\u001b[0;34m\u001b[0m\u001b[0;34m\u001b[0m\u001b[0m\n",
            "\u001b[0;32m<ipython-input-39-45eb573682fa>\u001b[0m in \u001b[0;36mforward\u001b[0;34m(self, x)\u001b[0m\n\u001b[1;32m    115\u001b[0m \u001b[0;34m\u001b[0m\u001b[0m\n\u001b[1;32m    116\u001b[0m     \u001b[0;32mdef\u001b[0m \u001b[0mforward\u001b[0m\u001b[0;34m(\u001b[0m\u001b[0mself\u001b[0m\u001b[0;34m,\u001b[0m \u001b[0mx\u001b[0m\u001b[0;34m)\u001b[0m\u001b[0;34m:\u001b[0m\u001b[0;34m\u001b[0m\u001b[0;34m\u001b[0m\u001b[0m\n\u001b[0;32m--> 117\u001b[0;31m         \u001b[0mencoded\u001b[0m \u001b[0;34m=\u001b[0m \u001b[0mself\u001b[0m\u001b[0;34m.\u001b[0m\u001b[0mencoder\u001b[0m\u001b[0;34m(\u001b[0m\u001b[0mx\u001b[0m\u001b[0;34m)\u001b[0m\u001b[0;34m\u001b[0m\u001b[0;34m\u001b[0m\u001b[0m\n\u001b[0m\u001b[1;32m    118\u001b[0m         \u001b[0mdecoded\u001b[0m \u001b[0;34m=\u001b[0m \u001b[0mself\u001b[0m\u001b[0;34m.\u001b[0m\u001b[0mdecoder\u001b[0m\u001b[0;34m(\u001b[0m\u001b[0mencoded\u001b[0m\u001b[0;34m)\u001b[0m\u001b[0;34m\u001b[0m\u001b[0;34m\u001b[0m\u001b[0m\n\u001b[1;32m    119\u001b[0m         \u001b[0;32mreturn\u001b[0m \u001b[0mdecoded\u001b[0m\u001b[0;34m\u001b[0m\u001b[0;34m\u001b[0m\u001b[0m\n",
            "\u001b[0;32m/usr/local/lib/python3.8/dist-packages/torch/nn/modules/module.py\u001b[0m in \u001b[0;36m_call_impl\u001b[0;34m(self, *input, **kwargs)\u001b[0m\n\u001b[1;32m   1188\u001b[0m         if not (self._backward_hooks or self._forward_hooks or self._forward_pre_hooks or _global_backward_hooks\n\u001b[1;32m   1189\u001b[0m                 or _global_forward_hooks or _global_forward_pre_hooks):\n\u001b[0;32m-> 1190\u001b[0;31m             \u001b[0;32mreturn\u001b[0m \u001b[0mforward_call\u001b[0m\u001b[0;34m(\u001b[0m\u001b[0;34m*\u001b[0m\u001b[0minput\u001b[0m\u001b[0;34m,\u001b[0m \u001b[0;34m**\u001b[0m\u001b[0mkwargs\u001b[0m\u001b[0;34m)\u001b[0m\u001b[0;34m\u001b[0m\u001b[0;34m\u001b[0m\u001b[0m\n\u001b[0m\u001b[1;32m   1191\u001b[0m         \u001b[0;31m# Do not call functions when jit is used\u001b[0m\u001b[0;34m\u001b[0m\u001b[0;34m\u001b[0m\u001b[0;34m\u001b[0m\u001b[0m\n\u001b[1;32m   1192\u001b[0m         \u001b[0mfull_backward_hooks\u001b[0m\u001b[0;34m,\u001b[0m \u001b[0mnon_full_backward_hooks\u001b[0m \u001b[0;34m=\u001b[0m \u001b[0;34m[\u001b[0m\u001b[0;34m]\u001b[0m\u001b[0;34m,\u001b[0m \u001b[0;34m[\u001b[0m\u001b[0;34m]\u001b[0m\u001b[0;34m\u001b[0m\u001b[0;34m\u001b[0m\u001b[0m\n",
            "\u001b[0;32m/usr/local/lib/python3.8/dist-packages/torch/nn/modules/container.py\u001b[0m in \u001b[0;36mforward\u001b[0;34m(self, input)\u001b[0m\n\u001b[1;32m    202\u001b[0m     \u001b[0;32mdef\u001b[0m \u001b[0mforward\u001b[0m\u001b[0;34m(\u001b[0m\u001b[0mself\u001b[0m\u001b[0;34m,\u001b[0m \u001b[0minput\u001b[0m\u001b[0;34m)\u001b[0m\u001b[0;34m:\u001b[0m\u001b[0;34m\u001b[0m\u001b[0;34m\u001b[0m\u001b[0m\n\u001b[1;32m    203\u001b[0m         \u001b[0;32mfor\u001b[0m \u001b[0mmodule\u001b[0m \u001b[0;32min\u001b[0m \u001b[0mself\u001b[0m\u001b[0;34m:\u001b[0m\u001b[0;34m\u001b[0m\u001b[0;34m\u001b[0m\u001b[0m\n\u001b[0;32m--> 204\u001b[0;31m             \u001b[0minput\u001b[0m \u001b[0;34m=\u001b[0m \u001b[0mmodule\u001b[0m\u001b[0;34m(\u001b[0m\u001b[0minput\u001b[0m\u001b[0;34m)\u001b[0m\u001b[0;34m\u001b[0m\u001b[0;34m\u001b[0m\u001b[0m\n\u001b[0m\u001b[1;32m    205\u001b[0m         \u001b[0;32mreturn\u001b[0m \u001b[0minput\u001b[0m\u001b[0;34m\u001b[0m\u001b[0;34m\u001b[0m\u001b[0m\n\u001b[1;32m    206\u001b[0m \u001b[0;34m\u001b[0m\u001b[0m\n",
            "\u001b[0;32m/usr/local/lib/python3.8/dist-packages/torch/nn/modules/module.py\u001b[0m in \u001b[0;36m_call_impl\u001b[0;34m(self, *input, **kwargs)\u001b[0m\n\u001b[1;32m   1188\u001b[0m         if not (self._backward_hooks or self._forward_hooks or self._forward_pre_hooks or _global_backward_hooks\n\u001b[1;32m   1189\u001b[0m                 or _global_forward_hooks or _global_forward_pre_hooks):\n\u001b[0;32m-> 1190\u001b[0;31m             \u001b[0;32mreturn\u001b[0m \u001b[0mforward_call\u001b[0m\u001b[0;34m(\u001b[0m\u001b[0;34m*\u001b[0m\u001b[0minput\u001b[0m\u001b[0;34m,\u001b[0m \u001b[0;34m**\u001b[0m\u001b[0mkwargs\u001b[0m\u001b[0;34m)\u001b[0m\u001b[0;34m\u001b[0m\u001b[0;34m\u001b[0m\u001b[0m\n\u001b[0m\u001b[1;32m   1191\u001b[0m         \u001b[0;31m# Do not call functions when jit is used\u001b[0m\u001b[0;34m\u001b[0m\u001b[0;34m\u001b[0m\u001b[0;34m\u001b[0m\u001b[0m\n\u001b[1;32m   1192\u001b[0m         \u001b[0mfull_backward_hooks\u001b[0m\u001b[0;34m,\u001b[0m \u001b[0mnon_full_backward_hooks\u001b[0m \u001b[0;34m=\u001b[0m \u001b[0;34m[\u001b[0m\u001b[0;34m]\u001b[0m\u001b[0;34m,\u001b[0m \u001b[0;34m[\u001b[0m\u001b[0;34m]\u001b[0m\u001b[0;34m\u001b[0m\u001b[0;34m\u001b[0m\u001b[0m\n",
            "\u001b[0;32m/usr/local/lib/python3.8/dist-packages/torch/nn/modules/conv.py\u001b[0m in \u001b[0;36mforward\u001b[0;34m(self, input)\u001b[0m\n\u001b[1;32m    461\u001b[0m \u001b[0;34m\u001b[0m\u001b[0m\n\u001b[1;32m    462\u001b[0m     \u001b[0;32mdef\u001b[0m \u001b[0mforward\u001b[0m\u001b[0;34m(\u001b[0m\u001b[0mself\u001b[0m\u001b[0;34m,\u001b[0m \u001b[0minput\u001b[0m\u001b[0;34m:\u001b[0m \u001b[0mTensor\u001b[0m\u001b[0;34m)\u001b[0m \u001b[0;34m->\u001b[0m \u001b[0mTensor\u001b[0m\u001b[0;34m:\u001b[0m\u001b[0;34m\u001b[0m\u001b[0;34m\u001b[0m\u001b[0m\n\u001b[0;32m--> 463\u001b[0;31m         \u001b[0;32mreturn\u001b[0m \u001b[0mself\u001b[0m\u001b[0;34m.\u001b[0m\u001b[0m_conv_forward\u001b[0m\u001b[0;34m(\u001b[0m\u001b[0minput\u001b[0m\u001b[0;34m,\u001b[0m \u001b[0mself\u001b[0m\u001b[0;34m.\u001b[0m\u001b[0mweight\u001b[0m\u001b[0;34m,\u001b[0m \u001b[0mself\u001b[0m\u001b[0;34m.\u001b[0m\u001b[0mbias\u001b[0m\u001b[0;34m)\u001b[0m\u001b[0;34m\u001b[0m\u001b[0;34m\u001b[0m\u001b[0m\n\u001b[0m\u001b[1;32m    464\u001b[0m \u001b[0;34m\u001b[0m\u001b[0m\n\u001b[1;32m    465\u001b[0m \u001b[0;32mclass\u001b[0m \u001b[0mConv3d\u001b[0m\u001b[0;34m(\u001b[0m\u001b[0m_ConvNd\u001b[0m\u001b[0;34m)\u001b[0m\u001b[0;34m:\u001b[0m\u001b[0;34m\u001b[0m\u001b[0;34m\u001b[0m\u001b[0m\n",
            "\u001b[0;32m/usr/local/lib/python3.8/dist-packages/torch/nn/modules/conv.py\u001b[0m in \u001b[0;36m_conv_forward\u001b[0;34m(self, input, weight, bias)\u001b[0m\n\u001b[1;32m    457\u001b[0m                             \u001b[0mweight\u001b[0m\u001b[0;34m,\u001b[0m \u001b[0mbias\u001b[0m\u001b[0;34m,\u001b[0m \u001b[0mself\u001b[0m\u001b[0;34m.\u001b[0m\u001b[0mstride\u001b[0m\u001b[0;34m,\u001b[0m\u001b[0;34m\u001b[0m\u001b[0;34m\u001b[0m\u001b[0m\n\u001b[1;32m    458\u001b[0m                             _pair(0), self.dilation, self.groups)\n\u001b[0;32m--> 459\u001b[0;31m         return F.conv2d(input, weight, bias, self.stride,\n\u001b[0m\u001b[1;32m    460\u001b[0m                         self.padding, self.dilation, self.groups)\n\u001b[1;32m    461\u001b[0m \u001b[0;34m\u001b[0m\u001b[0m\n",
            "\u001b[0;31mRuntimeError\u001b[0m: Expected all tensors to be on the same device, but found at least two devices, cpu and cuda:0! (when checking argument for argument weight in method wrapper___slow_conv2d_forward)"
          ]
        }
      ]
    },
    {
      "cell_type": "code",
      "source": [
        "loss_hist"
      ],
      "metadata": {
        "colab": {
          "base_uri": "https://localhost:8080/"
        },
        "id": "LuDf79Z5j1jH",
        "outputId": "001e9136-973e-4060-fd57-279f5e682194"
      },
      "execution_count": 48,
      "outputs": [
        {
          "output_type": "execute_result",
          "data": {
            "text/plain": [
              "[0.01829134351015091,\n",
              " 0.01829119467602836,\n",
              " 0.018291674719254174,\n",
              " 0.018288753596279357,\n",
              " 0.018291366510921055,\n",
              " 0.018289796302053664,\n",
              " 0.018290697213013966,\n",
              " 0.018292148091395698]"
            ]
          },
          "metadata": {},
          "execution_count": 48
        }
      ]
    },
    {
      "cell_type": "code",
      "execution_count": null,
      "metadata": {
        "id": "ZcJblZnwDkCO"
      },
      "outputs": [],
      "source": [
        "device = torch.device(\"cuda:0\" if torch.cuda.is_available() else \"cpu\")\n",
        "net1 =  Autoencoder(base_channel_size=32, latent_dim=64, encoder_class=encoder)\n",
        "net2 = Autoencoder(base_channel_size=32, latent_dim=64 , encoder_class=encoder)\n",
        "criterion = nn.MSELoss()\n",
        "optimizer1 = optim.Adam(net1.parameters(), lr=0.01, betas=(0.9, 0.999), eps=1e-08, weight_decay=0, amsgrad=False)\n",
        "optimizer2 = optim.Adam(net2.parameters(), lr=0.01, betas=(0.9, 0.999), eps=1e-08, weight_decay=0, amsgrad=False)\n",
        "\n",
        "net1.to('cuda:0')\n",
        "net2.to('cuda:0')\n"
      ]
    },
    {
      "cell_type": "code",
      "execution_count": null,
      "metadata": {
        "id": "xO2T_MIjEP2-"
      },
      "outputs": [],
      "source": [
        "from torchsummary import summary\n",
        "\n",
        "summary(net1,(3,32,32))"
      ]
    },
    {
      "cell_type": "markdown",
      "metadata": {
        "id": "9M-9O04HHrZJ"
      },
      "source": [
        "# Train "
      ]
    },
    {
      "cell_type": "code",
      "execution_count": null,
      "metadata": {
        "id": "4wlTsw_8Vnn7"
      },
      "outputs": [],
      "source": []
    },
    {
      "cell_type": "code",
      "execution_count": null,
      "metadata": {
        "colab": {
          "background_save": true,
          "base_uri": "https://localhost:8080/",
          "height": 467
        },
        "id": "ZoAfTvhgFe-2",
        "outputId": "8b942f01-e2e8-46bb-cfca-ae9b04ee889c"
      },
      "outputs": [
        {
          "name": "stdout",
          "output_type": "stream",
          "text": [
            "torch.Size([32, 3, 32, 32])\n"
          ]
        },
        {
          "ename": "TypeError",
          "evalue": "ignored",
          "output_type": "error",
          "traceback": [
            "\u001b[0;31m---------------------------------------------------------------------------\u001b[0m",
            "\u001b[0;31mTypeError\u001b[0m                                 Traceback (most recent call last)",
            "\u001b[0;32m<ipython-input-55-601a3636a6a2>\u001b[0m in \u001b[0;36m<module>\u001b[0;34m\u001b[0m\n\u001b[1;32m     30\u001b[0m         \u001b[0mprint\u001b[0m\u001b[0;34m(\u001b[0m\u001b[0moutputs1\u001b[0m\u001b[0;34m.\u001b[0m\u001b[0msize\u001b[0m\u001b[0;34m(\u001b[0m\u001b[0;34m)\u001b[0m\u001b[0;34m)\u001b[0m\u001b[0;34m\u001b[0m\u001b[0;34m\u001b[0m\u001b[0m\n\u001b[1;32m     31\u001b[0m \u001b[0;34m\u001b[0m\u001b[0m\n\u001b[0;32m---> 32\u001b[0;31m         \u001b[0mplt\u001b[0m\u001b[0;34m.\u001b[0m\u001b[0mimshow\u001b[0m\u001b[0;34m(\u001b[0m\u001b[0moutputs1\u001b[0m\u001b[0;34m)\u001b[0m\u001b[0;34m\u001b[0m\u001b[0;34m\u001b[0m\u001b[0m\n\u001b[0m\u001b[1;32m     33\u001b[0m         \u001b[0mloss1\u001b[0m \u001b[0;34m=\u001b[0m \u001b[0mcriterion\u001b[0m\u001b[0;34m(\u001b[0m\u001b[0moutputs1\u001b[0m\u001b[0;34m,\u001b[0m \u001b[0mlabels\u001b[0m\u001b[0;34m.\u001b[0m\u001b[0mfloat\u001b[0m\u001b[0;34m(\u001b[0m\u001b[0;34m)\u001b[0m\u001b[0;34m)\u001b[0m\u001b[0;34m\u001b[0m\u001b[0;34m\u001b[0m\u001b[0m\n\u001b[1;32m     34\u001b[0m \u001b[0;34m\u001b[0m\u001b[0m\n",
            "\u001b[0;32m/usr/local/lib/python3.8/dist-packages/matplotlib/pyplot.py\u001b[0m in \u001b[0;36mimshow\u001b[0;34m(X, cmap, norm, aspect, interpolation, alpha, vmin, vmax, origin, extent, shape, filternorm, filterrad, imlim, resample, url, data, **kwargs)\u001b[0m\n\u001b[1;32m   2643\u001b[0m         \u001b[0mfilterrad\u001b[0m\u001b[0;34m=\u001b[0m\u001b[0;36m4.0\u001b[0m\u001b[0;34m,\u001b[0m \u001b[0mimlim\u001b[0m\u001b[0;34m=\u001b[0m\u001b[0mcbook\u001b[0m\u001b[0;34m.\u001b[0m\u001b[0mdeprecation\u001b[0m\u001b[0;34m.\u001b[0m\u001b[0m_deprecated_parameter\u001b[0m\u001b[0;34m,\u001b[0m\u001b[0;34m\u001b[0m\u001b[0;34m\u001b[0m\u001b[0m\n\u001b[1;32m   2644\u001b[0m         resample=None, url=None, *, data=None, **kwargs):\n\u001b[0;32m-> 2645\u001b[0;31m     __ret = gca().imshow(\n\u001b[0m\u001b[1;32m   2646\u001b[0m         \u001b[0mX\u001b[0m\u001b[0;34m,\u001b[0m \u001b[0mcmap\u001b[0m\u001b[0;34m=\u001b[0m\u001b[0mcmap\u001b[0m\u001b[0;34m,\u001b[0m \u001b[0mnorm\u001b[0m\u001b[0;34m=\u001b[0m\u001b[0mnorm\u001b[0m\u001b[0;34m,\u001b[0m \u001b[0maspect\u001b[0m\u001b[0;34m=\u001b[0m\u001b[0maspect\u001b[0m\u001b[0;34m,\u001b[0m\u001b[0;34m\u001b[0m\u001b[0;34m\u001b[0m\u001b[0m\n\u001b[1;32m   2647\u001b[0m         \u001b[0minterpolation\u001b[0m\u001b[0;34m=\u001b[0m\u001b[0minterpolation\u001b[0m\u001b[0;34m,\u001b[0m \u001b[0malpha\u001b[0m\u001b[0;34m=\u001b[0m\u001b[0malpha\u001b[0m\u001b[0;34m,\u001b[0m \u001b[0mvmin\u001b[0m\u001b[0;34m=\u001b[0m\u001b[0mvmin\u001b[0m\u001b[0;34m,\u001b[0m\u001b[0;34m\u001b[0m\u001b[0;34m\u001b[0m\u001b[0m\n",
            "\u001b[0;32m/usr/local/lib/python3.8/dist-packages/matplotlib/__init__.py\u001b[0m in \u001b[0;36minner\u001b[0;34m(ax, data, *args, **kwargs)\u001b[0m\n\u001b[1;32m   1563\u001b[0m     \u001b[0;32mdef\u001b[0m \u001b[0minner\u001b[0m\u001b[0;34m(\u001b[0m\u001b[0max\u001b[0m\u001b[0;34m,\u001b[0m \u001b[0;34m*\u001b[0m\u001b[0margs\u001b[0m\u001b[0;34m,\u001b[0m \u001b[0mdata\u001b[0m\u001b[0;34m=\u001b[0m\u001b[0;32mNone\u001b[0m\u001b[0;34m,\u001b[0m \u001b[0;34m**\u001b[0m\u001b[0mkwargs\u001b[0m\u001b[0;34m)\u001b[0m\u001b[0;34m:\u001b[0m\u001b[0;34m\u001b[0m\u001b[0;34m\u001b[0m\u001b[0m\n\u001b[1;32m   1564\u001b[0m         \u001b[0;32mif\u001b[0m \u001b[0mdata\u001b[0m \u001b[0;32mis\u001b[0m \u001b[0;32mNone\u001b[0m\u001b[0;34m:\u001b[0m\u001b[0;34m\u001b[0m\u001b[0;34m\u001b[0m\u001b[0m\n\u001b[0;32m-> 1565\u001b[0;31m             \u001b[0;32mreturn\u001b[0m \u001b[0mfunc\u001b[0m\u001b[0;34m(\u001b[0m\u001b[0max\u001b[0m\u001b[0;34m,\u001b[0m \u001b[0;34m*\u001b[0m\u001b[0mmap\u001b[0m\u001b[0;34m(\u001b[0m\u001b[0msanitize_sequence\u001b[0m\u001b[0;34m,\u001b[0m \u001b[0margs\u001b[0m\u001b[0;34m)\u001b[0m\u001b[0;34m,\u001b[0m \u001b[0;34m**\u001b[0m\u001b[0mkwargs\u001b[0m\u001b[0;34m)\u001b[0m\u001b[0;34m\u001b[0m\u001b[0;34m\u001b[0m\u001b[0m\n\u001b[0m\u001b[1;32m   1566\u001b[0m \u001b[0;34m\u001b[0m\u001b[0m\n\u001b[1;32m   1567\u001b[0m         \u001b[0mbound\u001b[0m \u001b[0;34m=\u001b[0m \u001b[0mnew_sig\u001b[0m\u001b[0;34m.\u001b[0m\u001b[0mbind\u001b[0m\u001b[0;34m(\u001b[0m\u001b[0max\u001b[0m\u001b[0;34m,\u001b[0m \u001b[0;34m*\u001b[0m\u001b[0margs\u001b[0m\u001b[0;34m,\u001b[0m \u001b[0;34m**\u001b[0m\u001b[0mkwargs\u001b[0m\u001b[0;34m)\u001b[0m\u001b[0;34m\u001b[0m\u001b[0;34m\u001b[0m\u001b[0m\n",
            "\u001b[0;32m/usr/local/lib/python3.8/dist-packages/matplotlib/cbook/deprecation.py\u001b[0m in \u001b[0;36mwrapper\u001b[0;34m(*args, **kwargs)\u001b[0m\n\u001b[1;32m    356\u001b[0m                 \u001b[0;34mf\"%(removal)s.  If any parameter follows {name!r}, they \"\u001b[0m\u001b[0;34m\u001b[0m\u001b[0;34m\u001b[0m\u001b[0m\n\u001b[1;32m    357\u001b[0m                 f\"should be pass as keyword, not positionally.\")\n\u001b[0;32m--> 358\u001b[0;31m         \u001b[0;32mreturn\u001b[0m \u001b[0mfunc\u001b[0m\u001b[0;34m(\u001b[0m\u001b[0;34m*\u001b[0m\u001b[0margs\u001b[0m\u001b[0;34m,\u001b[0m \u001b[0;34m**\u001b[0m\u001b[0mkwargs\u001b[0m\u001b[0;34m)\u001b[0m\u001b[0;34m\u001b[0m\u001b[0;34m\u001b[0m\u001b[0m\n\u001b[0m\u001b[1;32m    359\u001b[0m \u001b[0;34m\u001b[0m\u001b[0m\n\u001b[1;32m    360\u001b[0m     \u001b[0;32mreturn\u001b[0m \u001b[0mwrapper\u001b[0m\u001b[0;34m\u001b[0m\u001b[0;34m\u001b[0m\u001b[0m\n",
            "\u001b[0;32m/usr/local/lib/python3.8/dist-packages/matplotlib/cbook/deprecation.py\u001b[0m in \u001b[0;36mwrapper\u001b[0;34m(*args, **kwargs)\u001b[0m\n\u001b[1;32m    356\u001b[0m                 \u001b[0;34mf\"%(removal)s.  If any parameter follows {name!r}, they \"\u001b[0m\u001b[0;34m\u001b[0m\u001b[0;34m\u001b[0m\u001b[0m\n\u001b[1;32m    357\u001b[0m                 f\"should be pass as keyword, not positionally.\")\n\u001b[0;32m--> 358\u001b[0;31m         \u001b[0;32mreturn\u001b[0m \u001b[0mfunc\u001b[0m\u001b[0;34m(\u001b[0m\u001b[0;34m*\u001b[0m\u001b[0margs\u001b[0m\u001b[0;34m,\u001b[0m \u001b[0;34m**\u001b[0m\u001b[0mkwargs\u001b[0m\u001b[0;34m)\u001b[0m\u001b[0;34m\u001b[0m\u001b[0;34m\u001b[0m\u001b[0m\n\u001b[0m\u001b[1;32m    359\u001b[0m \u001b[0;34m\u001b[0m\u001b[0m\n\u001b[1;32m    360\u001b[0m     \u001b[0;32mreturn\u001b[0m \u001b[0mwrapper\u001b[0m\u001b[0;34m\u001b[0m\u001b[0;34m\u001b[0m\u001b[0m\n",
            "\u001b[0;32m/usr/local/lib/python3.8/dist-packages/matplotlib/axes/_axes.py\u001b[0m in \u001b[0;36mimshow\u001b[0;34m(self, X, cmap, norm, aspect, interpolation, alpha, vmin, vmax, origin, extent, shape, filternorm, filterrad, imlim, resample, url, **kwargs)\u001b[0m\n\u001b[1;32m   5624\u001b[0m                               resample=resample, **kwargs)\n\u001b[1;32m   5625\u001b[0m \u001b[0;34m\u001b[0m\u001b[0m\n\u001b[0;32m-> 5626\u001b[0;31m         \u001b[0mim\u001b[0m\u001b[0;34m.\u001b[0m\u001b[0mset_data\u001b[0m\u001b[0;34m(\u001b[0m\u001b[0mX\u001b[0m\u001b[0;34m)\u001b[0m\u001b[0;34m\u001b[0m\u001b[0;34m\u001b[0m\u001b[0m\n\u001b[0m\u001b[1;32m   5627\u001b[0m         \u001b[0mim\u001b[0m\u001b[0;34m.\u001b[0m\u001b[0mset_alpha\u001b[0m\u001b[0;34m(\u001b[0m\u001b[0malpha\u001b[0m\u001b[0;34m)\u001b[0m\u001b[0;34m\u001b[0m\u001b[0;34m\u001b[0m\u001b[0m\n\u001b[1;32m   5628\u001b[0m         \u001b[0;32mif\u001b[0m \u001b[0mim\u001b[0m\u001b[0;34m.\u001b[0m\u001b[0mget_clip_path\u001b[0m\u001b[0;34m(\u001b[0m\u001b[0;34m)\u001b[0m \u001b[0;32mis\u001b[0m \u001b[0;32mNone\u001b[0m\u001b[0;34m:\u001b[0m\u001b[0;34m\u001b[0m\u001b[0;34m\u001b[0m\u001b[0m\n",
            "\u001b[0;32m/usr/local/lib/python3.8/dist-packages/matplotlib/image.py\u001b[0m in \u001b[0;36mset_data\u001b[0;34m(self, A)\u001b[0m\n\u001b[1;32m    687\u001b[0m             \u001b[0;32mif\u001b[0m \u001b[0misinstance\u001b[0m\u001b[0;34m(\u001b[0m\u001b[0mA\u001b[0m\u001b[0;34m,\u001b[0m \u001b[0mImage\u001b[0m\u001b[0;34m.\u001b[0m\u001b[0mImage\u001b[0m\u001b[0;34m)\u001b[0m\u001b[0;34m:\u001b[0m\u001b[0;34m\u001b[0m\u001b[0;34m\u001b[0m\u001b[0m\n\u001b[1;32m    688\u001b[0m                 \u001b[0mA\u001b[0m \u001b[0;34m=\u001b[0m \u001b[0mpil_to_array\u001b[0m\u001b[0;34m(\u001b[0m\u001b[0mA\u001b[0m\u001b[0;34m)\u001b[0m  \u001b[0;31m# Needed e.g. to apply png palette.\u001b[0m\u001b[0;34m\u001b[0m\u001b[0;34m\u001b[0m\u001b[0m\n\u001b[0;32m--> 689\u001b[0;31m         \u001b[0mself\u001b[0m\u001b[0;34m.\u001b[0m\u001b[0m_A\u001b[0m \u001b[0;34m=\u001b[0m \u001b[0mcbook\u001b[0m\u001b[0;34m.\u001b[0m\u001b[0msafe_masked_invalid\u001b[0m\u001b[0;34m(\u001b[0m\u001b[0mA\u001b[0m\u001b[0;34m,\u001b[0m \u001b[0mcopy\u001b[0m\u001b[0;34m=\u001b[0m\u001b[0;32mTrue\u001b[0m\u001b[0;34m)\u001b[0m\u001b[0;34m\u001b[0m\u001b[0;34m\u001b[0m\u001b[0m\n\u001b[0m\u001b[1;32m    690\u001b[0m \u001b[0;34m\u001b[0m\u001b[0m\n\u001b[1;32m    691\u001b[0m         if (self._A.dtype != np.uint8 and\n",
            "\u001b[0;32m/usr/local/lib/python3.8/dist-packages/matplotlib/cbook/__init__.py\u001b[0m in \u001b[0;36msafe_masked_invalid\u001b[0;34m(x, copy)\u001b[0m\n\u001b[1;32m    704\u001b[0m \u001b[0;34m\u001b[0m\u001b[0m\n\u001b[1;32m    705\u001b[0m \u001b[0;32mdef\u001b[0m \u001b[0msafe_masked_invalid\u001b[0m\u001b[0;34m(\u001b[0m\u001b[0mx\u001b[0m\u001b[0;34m,\u001b[0m \u001b[0mcopy\u001b[0m\u001b[0;34m=\u001b[0m\u001b[0;32mFalse\u001b[0m\u001b[0;34m)\u001b[0m\u001b[0;34m:\u001b[0m\u001b[0;34m\u001b[0m\u001b[0;34m\u001b[0m\u001b[0m\n\u001b[0;32m--> 706\u001b[0;31m     \u001b[0mx\u001b[0m \u001b[0;34m=\u001b[0m \u001b[0mnp\u001b[0m\u001b[0;34m.\u001b[0m\u001b[0marray\u001b[0m\u001b[0;34m(\u001b[0m\u001b[0mx\u001b[0m\u001b[0;34m,\u001b[0m \u001b[0msubok\u001b[0m\u001b[0;34m=\u001b[0m\u001b[0;32mTrue\u001b[0m\u001b[0;34m,\u001b[0m \u001b[0mcopy\u001b[0m\u001b[0;34m=\u001b[0m\u001b[0mcopy\u001b[0m\u001b[0;34m)\u001b[0m\u001b[0;34m\u001b[0m\u001b[0;34m\u001b[0m\u001b[0m\n\u001b[0m\u001b[1;32m    707\u001b[0m     \u001b[0;32mif\u001b[0m \u001b[0;32mnot\u001b[0m \u001b[0mx\u001b[0m\u001b[0;34m.\u001b[0m\u001b[0mdtype\u001b[0m\u001b[0;34m.\u001b[0m\u001b[0misnative\u001b[0m\u001b[0;34m:\u001b[0m\u001b[0;34m\u001b[0m\u001b[0;34m\u001b[0m\u001b[0m\n\u001b[1;32m    708\u001b[0m         \u001b[0;31m# Note that the argument to `byteswap` is 'inplace',\u001b[0m\u001b[0;34m\u001b[0m\u001b[0;34m\u001b[0m\u001b[0;34m\u001b[0m\u001b[0m\n",
            "\u001b[0;32m/usr/local/lib/python3.8/dist-packages/torch/_tensor.py\u001b[0m in \u001b[0;36m__array__\u001b[0;34m(self, dtype)\u001b[0m\n\u001b[1;32m    953\u001b[0m             \u001b[0;32mreturn\u001b[0m \u001b[0mhandle_torch_function\u001b[0m\u001b[0;34m(\u001b[0m\u001b[0mTensor\u001b[0m\u001b[0;34m.\u001b[0m\u001b[0m__array__\u001b[0m\u001b[0;34m,\u001b[0m \u001b[0;34m(\u001b[0m\u001b[0mself\u001b[0m\u001b[0;34m,\u001b[0m\u001b[0;34m)\u001b[0m\u001b[0;34m,\u001b[0m \u001b[0mself\u001b[0m\u001b[0;34m,\u001b[0m \u001b[0mdtype\u001b[0m\u001b[0;34m=\u001b[0m\u001b[0mdtype\u001b[0m\u001b[0;34m)\u001b[0m\u001b[0;34m\u001b[0m\u001b[0;34m\u001b[0m\u001b[0m\n\u001b[1;32m    954\u001b[0m         \u001b[0;32mif\u001b[0m \u001b[0mdtype\u001b[0m \u001b[0;32mis\u001b[0m \u001b[0;32mNone\u001b[0m\u001b[0;34m:\u001b[0m\u001b[0;34m\u001b[0m\u001b[0;34m\u001b[0m\u001b[0m\n\u001b[0;32m--> 955\u001b[0;31m             \u001b[0;32mreturn\u001b[0m \u001b[0mself\u001b[0m\u001b[0;34m.\u001b[0m\u001b[0mnumpy\u001b[0m\u001b[0;34m(\u001b[0m\u001b[0;34m)\u001b[0m\u001b[0;34m\u001b[0m\u001b[0;34m\u001b[0m\u001b[0m\n\u001b[0m\u001b[1;32m    956\u001b[0m         \u001b[0;32melse\u001b[0m\u001b[0;34m:\u001b[0m\u001b[0;34m\u001b[0m\u001b[0;34m\u001b[0m\u001b[0m\n\u001b[1;32m    957\u001b[0m             \u001b[0;32mreturn\u001b[0m \u001b[0mself\u001b[0m\u001b[0;34m.\u001b[0m\u001b[0mnumpy\u001b[0m\u001b[0;34m(\u001b[0m\u001b[0;34m)\u001b[0m\u001b[0;34m.\u001b[0m\u001b[0mastype\u001b[0m\u001b[0;34m(\u001b[0m\u001b[0mdtype\u001b[0m\u001b[0;34m,\u001b[0m \u001b[0mcopy\u001b[0m\u001b[0;34m=\u001b[0m\u001b[0;32mFalse\u001b[0m\u001b[0;34m)\u001b[0m\u001b[0;34m\u001b[0m\u001b[0;34m\u001b[0m\u001b[0m\n",
            "\u001b[0;31mTypeError\u001b[0m: can't convert cuda:0 device type tensor to numpy. Use Tensor.cpu() to copy the tensor to host memory first."
          ]
        },
        {
          "data": {
            "image/png": "[encoded data removed]",
            "text/plain": [
              "<Figure size 432x288 with 1 Axes>"
            ]
          },
          "metadata": {},
          "output_type": "display_data"
        }
      ],
      "source": [
        "for epoch in range(140):\n",
        "    net1.train()\n",
        "    net2.train()\n",
        "\n",
        "    running_loss = 0.0\n",
        "    correct = 0\n",
        "    for data in train_dataloader:\n",
        "        batch, labels = data\n",
        "        batch = batch.float()\n",
        "        # labels[0] = torch.tensor(labels[0]).to('cuda:0')\n",
        "        # labels[1] = torch.tensor(labels[1]).to('cuda:0')\n",
        "\n",
        "        batch , labels = batch.to('cuda:0') , labels.to('cuda:0')\n",
        "        batch, labels = batch.cuda(), labels.cuda() # add this line\n",
        "\n",
        "        optimizer1.zero_grad()\n",
        "        # optimizer2.zero_grad()\n",
        "\n",
        "        # outputs = net(batch)\n",
        "        # output1 = outputs[:,3:,:,:]\n",
        "        # output2 = outputs[:,:3,:,:]\n",
        "        # # print(outputs.size())\n",
        "\n",
        "        # loss1 = criterion(output1, labels[:,:,32:,:].float())\n",
        "        # loss2 = criterion(output2, labels[:,:,:32,:].float())\n",
        "        # loss = loss1 + loss2\n",
        "\n",
        "        outputs1 = net1(batch)\n",
        "        # loss1 = criterion(outputs1, labels[:,:,32:,:].float())\n",
        "        plt.imshow()\n",
        "        loss1 = criterion(outputs1, labels.float())\n",
        "\n",
        "        loss1.backward(retain_graph=True)\n",
        "\n",
        "        # outputs2 = net2(batch)\n",
        "        # loss2 = criterion(outputs1, labels[:,:,32:,:].float())\n",
        "        # loss2 = criterion(outputs1, labels.float())\n",
        "\n",
        "        # loss2.backward(retain_graph=True)\n",
        "\n",
        "        optimizer1.step()\n",
        "        # optimizer2.step()\n",
        "\n",
        "        # compute training statistics\n",
        "        # _, predicted = torch.max(outputs, 1)\n",
        "        # print(loss)\n",
        "\n",
        "        # correct += (predicted == labels).sum().item()\n",
        "        running_loss += loss1.item()\n",
        "    print(running_loss)"
      ]
    },
    {
      "cell_type": "code",
      "execution_count": null,
      "metadata": {
        "id": "cMTOi0FyIWS_"
      },
      "outputs": [],
      "source": []
    }
  ],
  "metadata": {
    "accelerator": "GPU",
    "colab": {
      "collapsed_sections": [
        "SUNxaizx9i5Y",
        "29-Le8azitBF",
        "9M9A3zj5EnvP",
        "iB5cYoxyCIF1"
      ],
      "provenance": []
    },
    "gpuClass": "standard",
    "kernelspec": {
      "display_name": "Python 3",
      "name": "python3"
    },
    "language_info": {
      "name": "python"
    }
  },
  "nbformat": 4,
  "nbformat_minor": 0
}